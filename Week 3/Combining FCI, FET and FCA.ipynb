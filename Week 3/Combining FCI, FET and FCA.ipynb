{
 "cells": [
  {
   "cell_type": "code",
   "execution_count": 10,
   "id": "e1efff7f",
   "metadata": {},
   "outputs": [],
   "source": [
    "import pandas as pd\n",
    "# import warnings\n",
    "# import re\n",
    "\n",
    "# # Suppress the specific UserWarning from openpyxl\n",
    "# warnings.filterwarnings(\"ignore\", category=UserWarning, message=\"Data Validation extension is not supported\")"
   ]
  },
  {
   "cell_type": "code",
   "execution_count": 11,
   "id": "1baeb934",
   "metadata": {},
   "outputs": [
    {
     "name": "stdout",
     "output_type": "stream",
     "text": [
      "<class 'pandas.core.frame.DataFrame'>\n",
      "RangeIndex: 51 entries, 0 to 50\n",
      "Data columns (total 28 columns):\n",
      " #   Column                      Non-Null Count  Dtype  \n",
      "---  ------                      --------------  -----  \n",
      " 0   company_id                  22 non-null     float64\n",
      " 1   Company name                51 non-null     object \n",
      " 2   Company address             12 non-null     object \n",
      " 3   company_name_slug           22 non-null     object \n",
      " 4   company_no                  20 non-null     object \n",
      " 5   reviews_count               22 non-null     float64\n",
      " 6   average_company_rating      22 non-null     float64\n",
      " 7   company_review_summary_url  22 non-null     object \n",
      " 8   company_review_url          22 non-null     object \n",
      " 9   foreign_company_id          22 non-null     float64\n",
      " 10  map_address                 12 non-null     object \n",
      " 11  map_latitude                7 non-null      float64\n",
      " 12  map_longitude               7 non-null      float64\n",
      " 13  industry                    22 non-null     object \n",
      " 14  website_url                 6 non-null      object \n",
      " 15  Secondary Address           0 non-null      float64\n",
      " 16  Company Tel                 48 non-null     object \n",
      " 17  Company Email               48 non-null     object \n",
      " 18  Contact Person              51 non-null     object \n",
      " 19  Position                    51 non-null     object \n",
      " 20  FET                         51 non-null     int64  \n",
      " 21  FCA                         51 non-null     int64  \n",
      " 22  FOB                         51 non-null     int64  \n",
      " 23  FCM                         51 non-null     int64  \n",
      " 24  FOE                         51 non-null     int64  \n",
      " 25  FOM                         51 non-null     int64  \n",
      " 26  FIST                        51 non-null     int64  \n",
      " 27  FCI                         51 non-null     int64  \n",
      "dtypes: float64(7), int64(8), object(13)\n",
      "memory usage: 11.3+ KB\n"
     ]
    }
   ],
   "source": [
    "# import pandas as pd\n",
    "\n",
    "# Specify the path to the CSV file\n",
    "csv_file_path = 'FCA_final_16_8.csv'\n",
    "\n",
    "# Read the CSV file into a DataFrame\n",
    "df = pd.read_csv(csv_file_path)\n",
    "\n",
    "# Now you have your data in the 'df' DataFrame\n",
    "# print(df)\n",
    "df.info()"
   ]
  },
  {
   "cell_type": "code",
   "execution_count": 12,
   "id": "73b208db",
   "metadata": {},
   "outputs": [
    {
     "name": "stdout",
     "output_type": "stream",
     "text": [
      "<class 'pandas.core.frame.DataFrame'>\n",
      "RangeIndex: 132 entries, 0 to 131\n",
      "Data columns (total 29 columns):\n",
      " #   Column                      Non-Null Count  Dtype  \n",
      "---  ------                      --------------  -----  \n",
      " 0   company_id                  97 non-null     float64\n",
      " 1   Company name                132 non-null    object \n",
      " 2   Company address             73 non-null     object \n",
      " 3   company_name_slug           97 non-null     object \n",
      " 4   company_no                  87 non-null     object \n",
      " 5   reviews_count               97 non-null     float64\n",
      " 6   average_company_rating      97 non-null     float64\n",
      " 7   company_review_summary_url  97 non-null     object \n",
      " 8   company_review_url          97 non-null     object \n",
      " 9   foreign_company_id          97 non-null     float64\n",
      " 10  map_address                 73 non-null     object \n",
      " 11  map_latitude                30 non-null     float64\n",
      " 12  map_longitude               30 non-null     float64\n",
      " 13  industry                    97 non-null     object \n",
      " 14  website_url                 39 non-null     object \n",
      " 15  Secondary Address           0 non-null      float64\n",
      " 16  Company Tel                 0 non-null      float64\n",
      " 17  Company Email               58 non-null     object \n",
      " 18  Contact Person              58 non-null     object \n",
      " 19  Position                    57 non-null     object \n",
      " 20  FET                         132 non-null    int64  \n",
      " 21  FCA                         132 non-null    int64  \n",
      " 22  FOB                         132 non-null    int64  \n",
      " 23  FCM                         132 non-null    int64  \n",
      " 24  FOE                         132 non-null    int64  \n",
      " 25  FOM                         132 non-null    int64  \n",
      " 26  FIST                        132 non-null    int64  \n",
      " 27  FCI                         132 non-null    int64  \n",
      " 28  tertiary address            39 non-null     object \n",
      "dtypes: float64(8), int64(8), object(13)\n",
      "memory usage: 30.0+ KB\n"
     ]
    }
   ],
   "source": [
    "# Specify the path to the CSV file\n",
    "csv_file_path = 'FET_JOBS_PAIRED_with_tertiary_address.csv'\n",
    "\n",
    "# Read the CSV file into a DataFrame\n",
    "df2 = pd.read_csv(csv_file_path)\n",
    "\n",
    "# Now you have your data in the 'df' DataFrame\n",
    "# print(df)\n",
    "df2.info()"
   ]
  },
  {
   "cell_type": "code",
   "execution_count": 13,
   "id": "0f0c5638",
   "metadata": {},
   "outputs": [
    {
     "name": "stdout",
     "output_type": "stream",
     "text": [
      "<class 'pandas.core.frame.DataFrame'>\n",
      "RangeIndex: 208 entries, 0 to 207\n",
      "Data columns (total 28 columns):\n",
      " #   Column                      Non-Null Count  Dtype  \n",
      "---  ------                      --------------  -----  \n",
      " 0   company_id                  159 non-null    float64\n",
      " 1   Company name                208 non-null    object \n",
      " 2   Company address             208 non-null    object \n",
      " 3   company_name_slug           159 non-null    object \n",
      " 4   company_no                  149 non-null    object \n",
      " 5   reviews_count               159 non-null    float64\n",
      " 6   average_company_rating      159 non-null    float64\n",
      " 7   company_review_summary_url  158 non-null    object \n",
      " 8   company_review_url          158 non-null    object \n",
      " 9   foreign_company_id          159 non-null    float64\n",
      " 10  map_address                 159 non-null    object \n",
      " 11  map_latitude                34 non-null     float64\n",
      " 12  map_longitude               34 non-null     float64\n",
      " 13  industry                    159 non-null    object \n",
      " 14  website_url                 98 non-null     object \n",
      " 15  FOB                         208 non-null    int64  \n",
      " 16  FCM                         208 non-null    int64  \n",
      " 17  FOE                         208 non-null    int64  \n",
      " 18  FOM                         208 non-null    int64  \n",
      " 19  FIST                        208 non-null    int64  \n",
      " 20  FCI                         208 non-null    int64  \n",
      " 21  FET                         208 non-null    int64  \n",
      " 22  FCA                         208 non-null    int64  \n",
      " 23  Secondary Address           25 non-null     object \n",
      " 24  Contact Person              0 non-null      float64\n",
      " 25  Company Email               0 non-null      float64\n",
      " 26  Company Tel                 0 non-null      float64\n",
      " 27  Position                    0 non-null      float64\n",
      "dtypes: float64(10), int64(8), object(10)\n",
      "memory usage: 45.6+ KB\n"
     ]
    }
   ],
   "source": [
    "# Specify the path to the CSV file\n",
    "csv_file_path = 'FCI_new.xlsx'\n",
    "\n",
    "# Read the CSV file into a DataFrame\n",
    "df3 = pd.read_excel(csv_file_path)\n",
    "\n",
    "# Now you have your data in the 'df' DataFrame\n",
    "# print(df)\n",
    "df3.info()"
   ]
  },
  {
   "cell_type": "code",
   "execution_count": 14,
   "id": "ee915092",
   "metadata": {},
   "outputs": [
    {
     "name": "stdout",
     "output_type": "stream",
     "text": [
      "<class 'pandas.core.frame.DataFrame'>\n",
      "RangeIndex: 77 entries, 0 to 76\n",
      "Data columns (total 28 columns):\n",
      " #   Column                      Non-Null Count  Dtype  \n",
      "---  ------                      --------------  -----  \n",
      " 0   company_id                  52 non-null     float64\n",
      " 1   Company name                77 non-null     object \n",
      " 2   Company address             77 non-null     object \n",
      " 3   company_name_slug           52 non-null     object \n",
      " 4   company_no                  44 non-null     object \n",
      " 5   reviews_count               52 non-null     float64\n",
      " 6   average_company_rating      52 non-null     float64\n",
      " 7   company_review_summary_url  52 non-null     object \n",
      " 8   company_review_url          52 non-null     object \n",
      " 9   foreign_company_id          52 non-null     float64\n",
      " 10  map_address                 38 non-null     object \n",
      " 11  map_latitude                17 non-null     float64\n",
      " 12  map_longitude               17 non-null     float64\n",
      " 13  industry                    52 non-null     object \n",
      " 14  website_url                 16 non-null     object \n",
      " 15  FOB                         77 non-null     int64  \n",
      " 16  FCM                         77 non-null     int64  \n",
      " 17  FOE                         77 non-null     int64  \n",
      " 18  FOM                         77 non-null     int64  \n",
      " 19  FIST                        77 non-null     int64  \n",
      " 20  FCI                         77 non-null     int64  \n",
      " 21  FET                         77 non-null     int64  \n",
      " 22  FCA                         77 non-null     int64  \n",
      " 23  Secondary Address           14 non-null     object \n",
      " 24  Contact Person              0 non-null      float64\n",
      " 25  Company Email               0 non-null      float64\n",
      " 26  Company Tel                 0 non-null      float64\n",
      " 27  Position                    0 non-null      float64\n",
      "dtypes: float64(10), int64(8), object(10)\n",
      "memory usage: 17.0+ KB\n"
     ]
    }
   ],
   "source": [
    "# Specify the path to the CSV file\n",
    "csv_file_path = 'FOB_new.xlsx'\n",
    "\n",
    "# Read the CSV file into a DataFrame\n",
    "df4 = pd.read_excel(csv_file_path)\n",
    "\n",
    "# Now you have your data in the 'df' DataFrame\n",
    "# print(df)\n",
    "df4.info()"
   ]
  },
  {
   "cell_type": "code",
   "execution_count": 15,
   "id": "534ac094",
   "metadata": {},
   "outputs": [
    {
     "name": "stdout",
     "output_type": "stream",
     "text": [
      "<class 'pandas.core.frame.DataFrame'>\n",
      "RangeIndex: 468 entries, 0 to 467\n",
      "Data columns (total 29 columns):\n",
      " #   Column                      Non-Null Count  Dtype  \n",
      "---  ------                      --------------  -----  \n",
      " 0   company_id                  330 non-null    float64\n",
      " 1   Company name                468 non-null    object \n",
      " 2   Company address             370 non-null    object \n",
      " 3   company_name_slug           330 non-null    object \n",
      " 4   company_no                  300 non-null    object \n",
      " 5   reviews_count               330 non-null    float64\n",
      " 6   average_company_rating      330 non-null    float64\n",
      " 7   company_review_summary_url  329 non-null    object \n",
      " 8   company_review_url          329 non-null    object \n",
      " 9   foreign_company_id          330 non-null    float64\n",
      " 10  map_address                 282 non-null    object \n",
      " 11  map_latitude                88 non-null     float64\n",
      " 12  map_longitude               88 non-null     float64\n",
      " 13  industry                    330 non-null    object \n",
      " 14  website_url                 159 non-null    object \n",
      " 15  Secondary Address           39 non-null     object \n",
      " 16  Company Tel                 48 non-null     object \n",
      " 17  Company Email               106 non-null    object \n",
      " 18  Contact Person              109 non-null    object \n",
      " 19  Position                    108 non-null    object \n",
      " 20  FET                         468 non-null    int64  \n",
      " 21  FCA                         468 non-null    int64  \n",
      " 22  FOB                         468 non-null    int64  \n",
      " 23  FCM                         468 non-null    int64  \n",
      " 24  FOE                         468 non-null    int64  \n",
      " 25  FOM                         468 non-null    int64  \n",
      " 26  FIST                        468 non-null    int64  \n",
      " 27  FCI                         468 non-null    int64  \n",
      " 28  tertiary address            39 non-null     object \n",
      "dtypes: float64(6), int64(8), object(15)\n",
      "memory usage: 106.2+ KB\n"
     ]
    }
   ],
   "source": [
    "# List of DataFrames to concatenate\n",
    "data_frames = [df, df2, df3, df4]\n",
    "\n",
    "# Concatenate the DataFrames\n",
    "master_df = pd.concat(data_frames, ignore_index=True)\n",
    "\n",
    "# Now master_df contains the combined data\n",
    "master_df.info()"
   ]
  },
  {
   "cell_type": "code",
   "execution_count": 16,
   "id": "505278be",
   "metadata": {},
   "outputs": [
    {
     "name": "stdout",
     "output_type": "stream",
     "text": [
      "New DataFrame saved to 'master_df.csv'\n"
     ]
    }
   ],
   "source": [
    "output_csv_path = 'master_df.csv'\n",
    "master_df.to_csv(output_csv_path, index=False)\n",
    "\n",
    "print(f\"New DataFrame saved to '{output_csv_path}'\")"
   ]
  },
  {
   "cell_type": "code",
   "execution_count": 19,
   "id": "c915304b",
   "metadata": {},
   "outputs": [
    {
     "name": "stdout",
     "output_type": "stream",
     "text": [
      "<class 'pandas.core.frame.DataFrame'>\n",
      "RangeIndex: 459 entries, 0 to 458\n",
      "Data columns (total 29 columns):\n",
      " #   Column                      Non-Null Count  Dtype  \n",
      "---  ------                      --------------  -----  \n",
      " 0   company_id                  324 non-null    float64\n",
      " 1   Company name                459 non-null    object \n",
      " 2   Company address             361 non-null    object \n",
      " 3   company_name_slug           324 non-null    object \n",
      " 4   company_no                  294 non-null    object \n",
      " 5   reviews_count               324 non-null    float64\n",
      " 6   average_company_rating      324 non-null    float64\n",
      " 7   company_review_summary_url  323 non-null    object \n",
      " 8   company_review_url          323 non-null    object \n",
      " 9   foreign_company_id          324 non-null    float64\n",
      " 10  map_address                 276 non-null    object \n",
      " 11  map_latitude                87 non-null     float64\n",
      " 12  map_longitude               87 non-null     float64\n",
      " 13  industry                    324 non-null    object \n",
      " 14  website_url                 157 non-null    object \n",
      " 15  Secondary Address           38 non-null     object \n",
      " 16  Company Tel                 48 non-null     object \n",
      " 17  Company Email               106 non-null    object \n",
      " 18  Contact Person              109 non-null    object \n",
      " 19  Position                    108 non-null    object \n",
      " 20  FET                         459 non-null    int64  \n",
      " 21  FCA                         459 non-null    int64  \n",
      " 22  FOB                         459 non-null    int64  \n",
      " 23  FCM                         459 non-null    int64  \n",
      " 24  FOE                         459 non-null    int64  \n",
      " 25  FOM                         459 non-null    int64  \n",
      " 26  FIST                        459 non-null    int64  \n",
      " 27  FCI                         459 non-null    int64  \n",
      " 28  tertiary address            43 non-null     object \n",
      "dtypes: float64(6), int64(8), object(15)\n",
      "memory usage: 104.1+ KB\n"
     ]
    }
   ],
   "source": [
    "# import pandas as pd\n",
    "\n",
    "# Specify the path to the CSV file\n",
    "csv_file_path = 'master_df.csv'\n",
    "\n",
    "# Read the CSV file into a DataFrame\n",
    "df = pd.read_csv(csv_file_path)\n",
    "\n",
    "# Now you have your data in the 'df' DataFrame\n",
    "# print(df)\n",
    "df.info()"
   ]
  },
  {
   "cell_type": "code",
   "execution_count": 23,
   "id": "be58a78c",
   "metadata": {},
   "outputs": [
    {
     "name": "stdout",
     "output_type": "stream",
     "text": [
      "248    SUNNICASIA MALAYSIA SDN. BHD.\n",
      "Name: Company name, dtype: object\n"
     ]
    },
    {
     "data": {
      "text/plain": [
       "company_id                    1\n",
       "Company name                  1\n",
       "Company address               1\n",
       "company_name_slug             1\n",
       "company_no                    1\n",
       "reviews_count                 1\n",
       "average_company_rating        1\n",
       "company_review_summary_url    1\n",
       "company_review_url            1\n",
       "foreign_company_id            1\n",
       "map_address                   1\n",
       "map_latitude                  0\n",
       "map_longitude                 0\n",
       "industry                      1\n",
       "website_url                   1\n",
       "Secondary Address             0\n",
       "Company Tel                   0\n",
       "Company Email                 0\n",
       "Contact Person                0\n",
       "Position                      0\n",
       "FET                           1\n",
       "FCA                           1\n",
       "FOB                           1\n",
       "FCM                           1\n",
       "FOE                           1\n",
       "FOM                           1\n",
       "FIST                          1\n",
       "FCI                           1\n",
       "tertiary address              0\n",
       "dtype: int64"
      ]
     },
     "execution_count": 23,
     "metadata": {},
     "output_type": "execute_result"
    }
   ],
   "source": [
    "# Replace 'keyword' with the keyword you want to search for\n",
    "keyword = 'sunnicasia'\n",
    "\n",
    "# # Read the CSV file into a pandas DataFrame\n",
    "# df = pd.read_csv(csv_file_path)\n",
    "\n",
    "# Filter rows containing the keyword in the 'company_name' column\n",
    "filtered_df = df[df['Company name'].str.contains(keyword, case=False, na=False)]\n",
    "\n",
    "# Print the filtered DataFrame\n",
    "print(filtered_df['Company name'])\n",
    "filtered_df.count()"
   ]
  },
  {
   "cell_type": "code",
   "execution_count": 24,
   "id": "cd55537b",
   "metadata": {},
   "outputs": [
    {
     "name": "stdout",
     "output_type": "stream",
     "text": [
      "       company_id                   Company name  \\\n",
      "248  1.560000e+14  SUNNICASIA MALAYSIA SDN. BHD.   \n",
      "\n",
      "                                                                         Company address  \\\n",
      "248  Menara Axis, 2, Jalan 51a/223, Seksyen 51a, 46100 Petaling Jaya, Selangor, Malaysia   \n",
      "\n",
      "                       company_name_slug            company_no  reviews_count  \\\n",
      "248  sunnicasia-malaysia-156024532046486  W10-CP-10001251/2010            2.0   \n",
      "\n",
      "     average_company_rating  \\\n",
      "248                     5.0   \n",
      "\n",
      "                             company_review_summary_url  \\\n",
      "248  /companies/156024532046486/company-reviews/summary   \n",
      "\n",
      "                             company_review_url  foreign_company_id  ...  \\\n",
      "248  /companies/156024532046486/company-reviews            168394.0  ...   \n",
      "\n",
      "    Position  FET  FCA FOB FCM FOE FOM FIST FCI tertiary address  \n",
      "248      NaN    0    0   0   0   0   0    0   1              NaN  \n",
      "\n",
      "[1 rows x 29 columns]\n"
     ]
    }
   ],
   "source": [
    "# Specify the company name you want to search for\n",
    "target_company_name = 'SUNNICASIA MALAYSIA SDN. BHD.'\n",
    "\n",
    "# Filter rows based on the specified company name\n",
    "target_company_rows = df[df['Company name'] == target_company_name]\n",
    "\n",
    "# Set the display option to show all the content of the columns\n",
    "pd.set_option('display.max_colwidth', None)\n",
    "\n",
    "# Print the entire rows for the target company\n",
    "print(target_company_rows)\n"
   ]
  },
  {
   "cell_type": "markdown",
   "id": "bb39c859",
   "metadata": {},
   "source": [
    "# fixing the ID from master to jobstreet\n",
    "    -wait until we have all 8\n",
    "    -test now for 4"
   ]
  },
  {
   "cell_type": "code",
   "execution_count": 47,
   "id": "8ad722e1",
   "metadata": {},
   "outputs": [
    {
     "name": "stdout",
     "output_type": "stream",
     "text": [
      "<class 'pandas.core.frame.DataFrame'>\n",
      "RangeIndex: 459 entries, 0 to 458\n",
      "Data columns (total 29 columns):\n",
      " #   Column                      Non-Null Count  Dtype  \n",
      "---  ------                      --------------  -----  \n",
      " 0   company_id                  324 non-null    float64\n",
      " 1   Company name                459 non-null    object \n",
      " 2   Company address             361 non-null    object \n",
      " 3   company_name_slug           324 non-null    object \n",
      " 4   company_no                  295 non-null    object \n",
      " 5   reviews_count               324 non-null    float64\n",
      " 6   average_company_rating      324 non-null    float64\n",
      " 7   company_review_summary_url  323 non-null    object \n",
      " 8   company_review_url          323 non-null    object \n",
      " 9   foreign_company_id          324 non-null    float64\n",
      " 10  map_address                 276 non-null    object \n",
      " 11  map_latitude                87 non-null     float64\n",
      " 12  map_longitude               87 non-null     float64\n",
      " 13  industry                    324 non-null    object \n",
      " 14  website_url                 158 non-null    object \n",
      " 15  Secondary Address           38 non-null     object \n",
      " 16  Company Tel                 48 non-null     object \n",
      " 17  Company Email               106 non-null    object \n",
      " 18  Contact Person              109 non-null    object \n",
      " 19  Position                    108 non-null    object \n",
      " 20  FET                         459 non-null    int64  \n",
      " 21  FCA                         459 non-null    int64  \n",
      " 22  FOB                         459 non-null    int64  \n",
      " 23  FCM                         459 non-null    int64  \n",
      " 24  FOE                         459 non-null    int64  \n",
      " 25  FOM                         459 non-null    int64  \n",
      " 26  FIST                        459 non-null    int64  \n",
      " 27  FCI                         459 non-null    int64  \n",
      " 28  tertiary address            43 non-null     object \n",
      "dtypes: float64(6), int64(8), object(15)\n",
      "memory usage: 104.1+ KB\n"
     ]
    }
   ],
   "source": [
    "# Specify the path to the CSV file\n",
    "csv_file_path = 'master_df.csv'\n",
    "\n",
    "# Read the CSV file into a DataFrame\n",
    "df = pd.read_csv(csv_file_path)\n",
    "\n",
    "# Now you have your data in the 'df' DataFrame\n",
    "# print(df)\n",
    "df.info()"
   ]
  },
  {
   "cell_type": "code",
   "execution_count": 48,
   "id": "c6414e8b",
   "metadata": {},
   "outputs": [
    {
     "name": "stdout",
     "output_type": "stream",
     "text": [
      "<class 'pandas.core.frame.DataFrame'>\n",
      "RangeIndex: 188 entries, 0 to 187\n",
      "Data columns (total 24 columns):\n",
      " #   Column                      Non-Null Count  Dtype  \n",
      "---  ------                      --------------  -----  \n",
      " 0   company_id                  116 non-null    float64\n",
      " 1   Company name                188 non-null    object \n",
      " 2   Company address             188 non-null    object \n",
      " 3   company_name_slug           116 non-null    object \n",
      " 4   company_no                  104 non-null    object \n",
      " 5   reviews_count               116 non-null    float64\n",
      " 6   average_company_rating      115 non-null    float64\n",
      " 7   company_review_summary_url  116 non-null    object \n",
      " 8   company_review_url          116 non-null    object \n",
      " 9   foreign_company_id          116 non-null    float64\n",
      " 10  map_address                 90 non-null     object \n",
      " 11  map_latitude                38 non-null     float64\n",
      " 12  map_longitude               38 non-null     float64\n",
      " 13  industry                    116 non-null    object \n",
      " 14  website_url                 67 non-null     object \n",
      " 15  Secondary Address           39 non-null     object \n",
      " 16  FOB                         188 non-null    int64  \n",
      " 17  FCM                         188 non-null    int64  \n",
      " 18  FOE                         188 non-null    int64  \n",
      " 19  FOM                         188 non-null    int64  \n",
      " 20  FIST                        188 non-null    int64  \n",
      " 21  FCI                         188 non-null    int64  \n",
      " 22  FET                         188 non-null    int64  \n",
      " 23  FCA                         188 non-null    int64  \n",
      "dtypes: float64(6), int64(8), object(10)\n",
      "memory usage: 35.4+ KB\n"
     ]
    }
   ],
   "source": [
    "# Specify the path to the CSV file\n",
    "csv_file_path = 'FIST_new.xlsx'\n",
    "\n",
    "# Read the CSV file into a DataFrame\n",
    "df2 = pd.read_excel(csv_file_path)\n",
    "\n",
    "# Now you have your data in the 'df' DataFrame\n",
    "# print(df)\n",
    "# df2.info() \n",
    "\n",
    "\n",
    "# import pandas as pd\n",
    "\n",
    "# Assuming you have already read the Excel file into df\n",
    "# Replace 'old_column_name' with the actual column name you want to rename\n",
    "# Replace 'new_column_name' with the desired new column name\n",
    "df2.rename(columns={'Secondary  Address': 'Secondary Address'}, inplace=True)\n",
    "\n",
    "# Now the column name has been changed in the DataFrame\n",
    "df2.info() "
   ]
  },
  {
   "cell_type": "code",
   "execution_count": 49,
   "id": "c2b092b8",
   "metadata": {},
   "outputs": [],
   "source": [
    "# # Specify the path to the CSV file\n",
    "# csv_file_path = 'FCM_final (1).xlsx'\n",
    "\n",
    "# # Read the CSV file into a DataFrame\n",
    "# df3 = pd.read_excel(csv_file_path)\n",
    "\n",
    "# # Now you have your data in the 'df' DataFrame\n",
    "# # print(df)\n",
    "# df3.info() "
   ]
  },
  {
   "cell_type": "code",
   "execution_count": 50,
   "id": "e2a6cf43",
   "metadata": {},
   "outputs": [
    {
     "name": "stdout",
     "output_type": "stream",
     "text": [
      "<class 'pandas.core.frame.DataFrame'>\n",
      "RangeIndex: 647 entries, 0 to 646\n",
      "Data columns (total 29 columns):\n",
      " #   Column                      Non-Null Count  Dtype  \n",
      "---  ------                      --------------  -----  \n",
      " 0   company_id                  440 non-null    float64\n",
      " 1   Company name                647 non-null    object \n",
      " 2   Company address             549 non-null    object \n",
      " 3   company_name_slug           440 non-null    object \n",
      " 4   company_no                  399 non-null    object \n",
      " 5   reviews_count               440 non-null    float64\n",
      " 6   average_company_rating      439 non-null    float64\n",
      " 7   company_review_summary_url  439 non-null    object \n",
      " 8   company_review_url          439 non-null    object \n",
      " 9   foreign_company_id          440 non-null    float64\n",
      " 10  map_address                 366 non-null    object \n",
      " 11  map_latitude                125 non-null    float64\n",
      " 12  map_longitude               125 non-null    float64\n",
      " 13  industry                    440 non-null    object \n",
      " 14  website_url                 225 non-null    object \n",
      " 15  Secondary Address           77 non-null     object \n",
      " 16  Company Tel                 48 non-null     object \n",
      " 17  Company Email               106 non-null    object \n",
      " 18  Contact Person              109 non-null    object \n",
      " 19  Position                    108 non-null    object \n",
      " 20  FET                         647 non-null    int64  \n",
      " 21  FCA                         647 non-null    int64  \n",
      " 22  FOB                         647 non-null    int64  \n",
      " 23  FCM                         647 non-null    int64  \n",
      " 24  FOE                         647 non-null    int64  \n",
      " 25  FOM                         647 non-null    int64  \n",
      " 26  FIST                        647 non-null    int64  \n",
      " 27  FCI                         647 non-null    int64  \n",
      " 28  tertiary address            43 non-null     object \n",
      "dtypes: float64(6), int64(8), object(15)\n",
      "memory usage: 146.7+ KB\n"
     ]
    }
   ],
   "source": [
    "# List of DataFrames to concatenate\n",
    "# data_frames = [df, df2, df3]\n",
    "data_frames = [df, df2]\n",
    "\n",
    "# Concatenate the DataFrames\n",
    "master_df_2 = pd.concat(data_frames, ignore_index=True)\n",
    "\n",
    "# Now master_df contains the combined data\n",
    "master_df_2.info()"
   ]
  },
  {
   "cell_type": "code",
   "execution_count": 51,
   "id": "f42a4e10",
   "metadata": {},
   "outputs": [
    {
     "name": "stdout",
     "output_type": "stream",
     "text": [
      "New DataFrame saved to 'master_df_2.csv'\n"
     ]
    }
   ],
   "source": [
    "output_csv_path = 'master_df_2.csv'\n",
    "master_df_2.to_csv(output_csv_path, index=False)\n",
    "\n",
    "print(f\"New DataFrame saved to '{output_csv_path}'\")"
   ]
  },
  {
   "cell_type": "markdown",
   "id": "bb12aac3",
   "metadata": {},
   "source": [
    "# Final compilation of all 8 faculties"
   ]
  },
  {
   "cell_type": "code",
   "execution_count": 72,
   "id": "79ebf1eb",
   "metadata": {},
   "outputs": [
    {
     "name": "stdout",
     "output_type": "stream",
     "text": [
      "<class 'pandas.core.frame.DataFrame'>\n",
      "RangeIndex: 646 entries, 0 to 645\n",
      "Data columns (total 29 columns):\n",
      " #   Column                      Non-Null Count  Dtype  \n",
      "---  ------                      --------------  -----  \n",
      " 0   company_id                  440 non-null    float64\n",
      " 1   Company name                646 non-null    object \n",
      " 2   Company address             548 non-null    object \n",
      " 3   company_name_slug           440 non-null    object \n",
      " 4   company_no                  399 non-null    object \n",
      " 5   reviews_count               440 non-null    float64\n",
      " 6   average_company_rating      439 non-null    float64\n",
      " 7   company_review_summary_url  439 non-null    object \n",
      " 8   company_review_url          439 non-null    object \n",
      " 9   foreign_company_id          440 non-null    float64\n",
      " 10  map_address                 366 non-null    object \n",
      " 11  map_latitude                125 non-null    float64\n",
      " 12  map_longitude               125 non-null    float64\n",
      " 13  industry                    440 non-null    object \n",
      " 14  website_url                 225 non-null    object \n",
      " 15  Secondary Address           78 non-null     object \n",
      " 16  Company Tel                 48 non-null     object \n",
      " 17  Company Email               106 non-null    object \n",
      " 18  Contact Person              109 non-null    object \n",
      " 19  Position                    108 non-null    object \n",
      " 20  FET                         646 non-null    int64  \n",
      " 21  FCA                         646 non-null    int64  \n",
      " 22  FOB                         646 non-null    int64  \n",
      " 23  FCM                         646 non-null    int64  \n",
      " 24  FOE                         646 non-null    int64  \n",
      " 25  FOM                         646 non-null    int64  \n",
      " 26  FIST                        646 non-null    int64  \n",
      " 27  FCI                         646 non-null    int64  \n",
      " 28  tertiary address            43 non-null     object \n",
      "dtypes: float64(6), int64(8), object(15)\n",
      "memory usage: 146.5+ KB\n"
     ]
    }
   ],
   "source": [
    "# Specify the path to the CSV file\n",
    "csv_file_path = 'master_df_2.csv'\n",
    "\n",
    "# Read the CSV file into a DataFrame\n",
    "df = pd.read_csv(csv_file_path)\n",
    "\n",
    "# Now you have your data in the 'df' DataFrame\n",
    "# print(df)\n",
    "df.info()"
   ]
  },
  {
   "cell_type": "code",
   "execution_count": 73,
   "id": "260c481b",
   "metadata": {},
   "outputs": [
    {
     "name": "stdout",
     "output_type": "stream",
     "text": [
      "<class 'pandas.core.frame.DataFrame'>\n",
      "RangeIndex: 254 entries, 0 to 253\n",
      "Data columns (total 28 columns):\n",
      " #   Column                      Non-Null Count  Dtype  \n",
      "---  ------                      --------------  -----  \n",
      " 0   company_id                  148 non-null    float64\n",
      " 1   Company name                253 non-null    object \n",
      " 2   Company address             88 non-null     object \n",
      " 3   company_name_slug           148 non-null    object \n",
      " 4   company_no                  131 non-null    object \n",
      " 5   reviews_count               148 non-null    float64\n",
      " 6   average_company_rating      148 non-null    float64\n",
      " 7   company_review_summary_url  147 non-null    object \n",
      " 8   company_review_url          147 non-null    object \n",
      " 9   foreign_company_id          148 non-null    float64\n",
      " 10  map_address                 88 non-null     object \n",
      " 11  map_latitude                31 non-null     float64\n",
      " 12  map_longitude               31 non-null     float64\n",
      " 13  industry                    148 non-null    object \n",
      " 14  website_url                 61 non-null     object \n",
      " 15  FOB                         254 non-null    int64  \n",
      " 16  FCA                         254 non-null    int64  \n",
      " 17  FOE                         254 non-null    int64  \n",
      " 18  FOM                         254 non-null    int64  \n",
      " 19  FIST                        254 non-null    int64  \n",
      " 20  FCI                         254 non-null    int64  \n",
      " 21  FET                         254 non-null    int64  \n",
      " 22  FCM                         254 non-null    int64  \n",
      " 23  Position                    0 non-null      float64\n",
      " 24  Contact Person              0 non-null      float64\n",
      " 25  Company Email               0 non-null      float64\n",
      " 26  Company Tel                 0 non-null      float64\n",
      " 27  Secondary Address           0 non-null      float64\n",
      "dtypes: float64(11), int64(8), object(9)\n",
      "memory usage: 55.7+ KB\n"
     ]
    }
   ],
   "source": [
    "#New files\n",
    "#FCM_final\n",
    "#FOE_new\n",
    "#FOM_Updated\n",
    "\n",
    "# Specify the path to the CSV file\n",
    "csv_file_path = 'FCM_final.xlsx'\n",
    "\n",
    "# Read the CSV file into a DataFrame\n",
    "df2 = pd.read_excel(csv_file_path)\n",
    "\n",
    "# Now you have your data in the 'df' DataFrame\n",
    "# print(df)\n",
    "df2.info() "
   ]
  },
  {
   "cell_type": "code",
   "execution_count": 74,
   "id": "4e2cc140",
   "metadata": {},
   "outputs": [
    {
     "name": "stdout",
     "output_type": "stream",
     "text": [
      "<class 'pandas.core.frame.DataFrame'>\n",
      "RangeIndex: 163 entries, 0 to 162\n",
      "Data columns (total 28 columns):\n",
      " #   Column                      Non-Null Count  Dtype  \n",
      "---  ------                      --------------  -----  \n",
      " 0   company_id                  112 non-null    float64\n",
      " 1   Company name                163 non-null    object \n",
      " 2   Company address             156 non-null    object \n",
      " 3   company_name_slug           112 non-null    object \n",
      " 4   company_no                  89 non-null     object \n",
      " 5   reviews_count               112 non-null    float64\n",
      " 6   average_company_rating      112 non-null    float64\n",
      " 7   company_review_summary_url  111 non-null    object \n",
      " 8   company_review_url          111 non-null    object \n",
      " 9   foreign_company_id          112 non-null    float64\n",
      " 10  map_address                 84 non-null     object \n",
      " 11  map_latitude                32 non-null     float64\n",
      " 12  map_longitude               32 non-null     float64\n",
      " 13  industry                    112 non-null    object \n",
      " 14  website_url                 45 non-null     object \n",
      " 15  Secondary Address           10 non-null     object \n",
      " 16  Company Tel                 40 non-null     object \n",
      " 17  Company Email               34 non-null     object \n",
      " 18  Contact Person              45 non-null     object \n",
      " 19  Position                    17 non-null     object \n",
      " 20  FOB                         163 non-null    int64  \n",
      " 21  FCM                         163 non-null    int64  \n",
      " 22  FOE                         163 non-null    int64  \n",
      " 23  FOM                         163 non-null    int64  \n",
      " 24  FIST                        163 non-null    int64  \n",
      " 25  FCI                         163 non-null    int64  \n",
      " 26  FET                         163 non-null    int64  \n",
      " 27  FCA                         163 non-null    int64  \n",
      "dtypes: float64(6), int64(8), object(14)\n",
      "memory usage: 35.8+ KB\n"
     ]
    }
   ],
   "source": [
    "#FOE_new.xlsx\n",
    "\n",
    "# Specify the path to the CSV file\n",
    "csv_file_path = 'FOE_new.xlsx'\n",
    "\n",
    "# Read the CSV file into a DataFrame\n",
    "df3 = pd.read_excel(csv_file_path)\n",
    "\n",
    "# Now you have your data in the 'df' DataFrame\n",
    "df3.info() "
   ]
  },
  {
   "cell_type": "code",
   "execution_count": 75,
   "id": "4ae4fbeb",
   "metadata": {},
   "outputs": [
    {
     "name": "stdout",
     "output_type": "stream",
     "text": [
      "<class 'pandas.core.frame.DataFrame'>\n",
      "RangeIndex: 97 entries, 0 to 96\n",
      "Data columns (total 28 columns):\n",
      " #   Column                      Non-Null Count  Dtype  \n",
      "---  ------                      --------------  -----  \n",
      " 0   company_id                  65 non-null     float64\n",
      " 1   Company name                97 non-null     object \n",
      " 2   Company address             83 non-null     object \n",
      " 3   company_name_slug           65 non-null     object \n",
      " 4   company_no                  58 non-null     object \n",
      " 5   reviews_count               65 non-null     float64\n",
      " 6   average_company_rating      65 non-null     float64\n",
      " 7   company_review_summary_url  65 non-null     object \n",
      " 8   company_review_url          65 non-null     object \n",
      " 9   foreign_company_id          65 non-null     float64\n",
      " 10  map_address                 51 non-null     object \n",
      " 11  map_latitude                16 non-null     float64\n",
      " 12  map_longitude               16 non-null     float64\n",
      " 13  industry                    65 non-null     object \n",
      " 14  website_url                 35 non-null     object \n",
      " 15  FOB                         97 non-null     int64  \n",
      " 16  FCM                         97 non-null     int64  \n",
      " 17  FOE                         97 non-null     int64  \n",
      " 18  FIST                        97 non-null     int64  \n",
      " 19  FCI                         97 non-null     int64  \n",
      " 20  FET                         97 non-null     int64  \n",
      " 21  FCA                         97 non-null     int64  \n",
      " 22  FOM                         97 non-null     int64  \n",
      " 23  Position                    0 non-null      float64\n",
      " 24  Contact Person              0 non-null      float64\n",
      " 25  Company Email               0 non-null      float64\n",
      " 26  Company Tel                 36 non-null     object \n",
      " 27  Secondary Address           33 non-null     object \n",
      "dtypes: float64(9), int64(8), object(11)\n",
      "memory usage: 21.3+ KB\n"
     ]
    }
   ],
   "source": [
    "# Specify the path to the CSV file\n",
    "csv_file_path = 'FOM_Updated (1).xlsx'\n",
    "\n",
    "# Read the CSV file into a DataFrame\n",
    "df4 = pd.read_excel(csv_file_path)\n",
    "\n",
    "# Assuming you have your DataFrame df\n",
    "columns_to_drop = ['Link Score', 'source file']\n",
    "\n",
    "# Drop the specified columns\n",
    "df4.drop(columns=columns_to_drop, inplace=True)\n",
    "\n",
    "\n",
    "\n",
    "# Now you have your data in the 'df' DataFrame\n",
    "# print(df)\n",
    "df4.info() "
   ]
  },
  {
   "cell_type": "code",
   "execution_count": 76,
   "id": "34b49f65",
   "metadata": {},
   "outputs": [
    {
     "name": "stdout",
     "output_type": "stream",
     "text": [
      "<class 'pandas.core.frame.DataFrame'>\n",
      "RangeIndex: 1160 entries, 0 to 1159\n",
      "Data columns (total 29 columns):\n",
      " #   Column                      Non-Null Count  Dtype  \n",
      "---  ------                      --------------  -----  \n",
      " 0   company_id                  765 non-null    float64\n",
      " 1   Company name                1159 non-null   object \n",
      " 2   Company address             875 non-null    object \n",
      " 3   company_name_slug           765 non-null    object \n",
      " 4   company_no                  677 non-null    object \n",
      " 5   reviews_count               765 non-null    float64\n",
      " 6   average_company_rating      764 non-null    float64\n",
      " 7   company_review_summary_url  762 non-null    object \n",
      " 8   company_review_url          762 non-null    object \n",
      " 9   foreign_company_id          765 non-null    float64\n",
      " 10  map_address                 589 non-null    object \n",
      " 11  map_latitude                204 non-null    float64\n",
      " 12  map_longitude               204 non-null    float64\n",
      " 13  industry                    765 non-null    object \n",
      " 14  website_url                 366 non-null    object \n",
      " 15  Secondary Address           121 non-null    object \n",
      " 16  Company Tel                 124 non-null    object \n",
      " 17  Company Email               140 non-null    object \n",
      " 18  Contact Person              154 non-null    object \n",
      " 19  Position                    125 non-null    object \n",
      " 20  FET                         1160 non-null   int64  \n",
      " 21  FCA                         1160 non-null   int64  \n",
      " 22  FOB                         1160 non-null   int64  \n",
      " 23  FCM                         1160 non-null   int64  \n",
      " 24  FOE                         1160 non-null   int64  \n",
      " 25  FOM                         1160 non-null   int64  \n",
      " 26  FIST                        1160 non-null   int64  \n",
      " 27  FCI                         1160 non-null   int64  \n",
      " 28  tertiary address            43 non-null     object \n",
      "dtypes: float64(6), int64(8), object(15)\n",
      "memory usage: 262.9+ KB\n"
     ]
    }
   ],
   "source": [
    "# List of DataFrames to concatenate\n",
    "data_frames = [df, df2, df3, df4]\n",
    "\n",
    "# Concatenate the DataFrames\n",
    "master_df = pd.concat(data_frames, ignore_index=True)\n",
    "\n",
    "# Now master_df contains the combined data\n",
    "master_df.info()"
   ]
  },
  {
   "cell_type": "code",
   "execution_count": 77,
   "id": "baabfe1b",
   "metadata": {},
   "outputs": [
    {
     "name": "stdout",
     "output_type": "stream",
     "text": [
      "New DataFrame saved to 'master_df_3.csv'\n"
     ]
    }
   ],
   "source": [
    "output_csv_path = 'master_df_3.csv'\n",
    "master_df.to_csv(output_csv_path, index=False)\n",
    "\n",
    "print(f\"New DataFrame saved to '{output_csv_path}'\")"
   ]
  },
  {
   "cell_type": "code",
   "execution_count": null,
   "id": "cc7b7a4b",
   "metadata": {},
   "outputs": [],
   "source": []
  },
  {
   "cell_type": "code",
   "execution_count": null,
   "id": "0bac544b",
   "metadata": {},
   "outputs": [],
   "source": []
  }
 ],
 "metadata": {
  "kernelspec": {
   "display_name": "Python 3 (ipykernel)",
   "language": "python",
   "name": "python3"
  },
  "language_info": {
   "codemirror_mode": {
    "name": "ipython",
    "version": 3
   },
   "file_extension": ".py",
   "mimetype": "text/x-python",
   "name": "python",
   "nbconvert_exporter": "python",
   "pygments_lexer": "ipython3",
   "version": "3.9.12"
  }
 },
 "nbformat": 4,
 "nbformat_minor": 5
}
