{
 "cells": [
  {
   "cell_type": "code",
   "execution_count": 1,
   "id": "ee8cf77d",
   "metadata": {},
   "outputs": [],
   "source": [
    "#read the new FOM list"
   ]
  },
  {
   "cell_type": "code",
   "execution_count": 2,
   "id": "cad23e11",
   "metadata": {},
   "outputs": [],
   "source": [
    "#do one by one, follow the week 5\n",
    "import pandas as pd\n",
    "import warnings\n",
    "\n",
    "# Ignore warnings temporarily\n",
    "warnings.filterwarnings(\"ignore\")"
   ]
  },
  {
   "cell_type": "code",
   "execution_count": 3,
   "id": "13d09083",
   "metadata": {},
   "outputs": [
    {
     "name": "stdout",
     "output_type": "stream",
     "text": [
      "<class 'pandas.core.frame.DataFrame'>\n",
      "RangeIndex: 389 entries, 0 to 388\n",
      "Data columns (total 7 columns):\n",
      " #   Column           Non-Null Count  Dtype \n",
      "---  ------           --------------  ----- \n",
      " 0   STUD_ID          389 non-null    int64 \n",
      " 1   N_OFFICIAL_NAME  389 non-null    object\n",
      " 2   ACAD_ORG         389 non-null    object\n",
      " 3   ACAD_PROG        389 non-null    object\n",
      " 4   STRM             389 non-null    int64 \n",
      " 5   EXT_ORG_ID       389 non-null    object\n",
      " 6   ORG_NAME         389 non-null    object\n",
      "dtypes: int64(2), object(5)\n",
      "memory usage: 21.4+ KB\n",
      "None\n"
     ]
    }
   ],
   "source": [
    "# Read the Excel file and create a DataFrame\n",
    "excel_file = \"ITPFOMexport.xlsx\"\n",
    "df = pd.read_excel(excel_file)\n",
    "\n",
    "# Display the first few rows of the DataFrame\n",
    "print(df.info())"
   ]
  },
  {
   "cell_type": "code",
   "execution_count": 4,
   "id": "0d98a3c4",
   "metadata": {},
   "outputs": [],
   "source": [
    "unique_org_names = df['ORG_NAME'].unique()\n",
    "df_unique_org = pd.DataFrame({'Unique_ORG_NAME': unique_org_names})\n",
    "df_unique_org.to_excel('unique_FOM.xlsx', index=False)"
   ]
  },
  {
   "cell_type": "markdown",
   "id": "f1ac966b",
   "metadata": {},
   "source": [
    "# using the old code to pair the jobstreet to the company list"
   ]
  },
  {
   "cell_type": "code",
   "execution_count": 397,
   "id": "3ab43373",
   "metadata": {},
   "outputs": [],
   "source": [
    "# # Create an empty DataFrame to collect paired rows\n",
    "# #run this to clear the collection\n",
    "# # Replace 'FOM.xlsx' with the actual path to your Excel file\n",
    "# excel_file_path = 'sample_dataframe.xlsx'\n",
    "\n",
    "# # Read the Excel file into a DataFrame\n",
    "# # paired_rows_collection = pd.read_excel(excel_file_path)\n",
    "# df_org_names = pd.read_excel(excel_file_path)\n",
    "# # paired_rows_collection = pd.DataFrame()"
   ]
  },
  {
   "cell_type": "code",
   "execution_count": 8,
   "id": "b4f84b75",
   "metadata": {},
   "outputs": [],
   "source": [
    "# # Specify the path to your CSV file\n",
    "# csv_file_path = '2.jobstreet_company_info_main_industry_class.csv'\n",
    "\n",
    "# # Read the CSV file into a DataFrame\n",
    "# df = pd.read_csv(csv_file_path)"
   ]
  },
  {
   "cell_type": "code",
   "execution_count": 610,
   "id": "5cf814cd",
   "metadata": {},
   "outputs": [],
   "source": [
    "# row_number"
   ]
  },
  {
   "cell_type": "code",
   "execution_count": 950,
   "id": "9cce745c",
   "metadata": {},
   "outputs": [
    {
     "ename": "IndexError",
     "evalue": "single positional indexer is out-of-bounds",
     "output_type": "error",
     "traceback": [
      "\u001b[1;31m---------------------------------------------------------------------------\u001b[0m",
      "\u001b[1;31mIndexError\u001b[0m                                Traceback (most recent call last)",
      "Input \u001b[1;32mIn [950]\u001b[0m, in \u001b[0;36m<cell line: 6>\u001b[1;34m()\u001b[0m\n\u001b[0;32m      2\u001b[0m row_number \u001b[38;5;241m=\u001b[39m row_number \u001b[38;5;241m+\u001b[39m\u001b[38;5;241m1\u001b[39m\n\u001b[0;32m      3\u001b[0m \u001b[38;5;66;03m# row_number = 79 # For example, reading the third row (index 2)\u001b[39;00m\n\u001b[0;32m      4\u001b[0m \n\u001b[0;32m      5\u001b[0m \u001b[38;5;66;03m# Read the specified row using iloc\u001b[39;00m\n\u001b[1;32m----> 6\u001b[0m selected_row \u001b[38;5;241m=\u001b[39m \u001b[43mdf_org_names\u001b[49m\u001b[38;5;241;43m.\u001b[39;49m\u001b[43miloc\u001b[49m\u001b[43m[\u001b[49m\u001b[43mrow_number\u001b[49m\u001b[43m]\u001b[49m\n\u001b[0;32m      8\u001b[0m \u001b[38;5;28mprint\u001b[39m(selected_row)\n",
      "File \u001b[1;32m~\\anaconda3\\lib\\site-packages\\pandas\\core\\indexing.py:967\u001b[0m, in \u001b[0;36m_LocationIndexer.__getitem__\u001b[1;34m(self, key)\u001b[0m\n\u001b[0;32m    964\u001b[0m axis \u001b[38;5;241m=\u001b[39m \u001b[38;5;28mself\u001b[39m\u001b[38;5;241m.\u001b[39maxis \u001b[38;5;129;01mor\u001b[39;00m \u001b[38;5;241m0\u001b[39m\n\u001b[0;32m    966\u001b[0m maybe_callable \u001b[38;5;241m=\u001b[39m com\u001b[38;5;241m.\u001b[39mapply_if_callable(key, \u001b[38;5;28mself\u001b[39m\u001b[38;5;241m.\u001b[39mobj)\n\u001b[1;32m--> 967\u001b[0m \u001b[38;5;28;01mreturn\u001b[39;00m \u001b[38;5;28;43mself\u001b[39;49m\u001b[38;5;241;43m.\u001b[39;49m\u001b[43m_getitem_axis\u001b[49m\u001b[43m(\u001b[49m\u001b[43mmaybe_callable\u001b[49m\u001b[43m,\u001b[49m\u001b[43m \u001b[49m\u001b[43maxis\u001b[49m\u001b[38;5;241;43m=\u001b[39;49m\u001b[43maxis\u001b[49m\u001b[43m)\u001b[49m\n",
      "File \u001b[1;32m~\\anaconda3\\lib\\site-packages\\pandas\\core\\indexing.py:1520\u001b[0m, in \u001b[0;36m_iLocIndexer._getitem_axis\u001b[1;34m(self, key, axis)\u001b[0m\n\u001b[0;32m   1517\u001b[0m     \u001b[38;5;28;01mraise\u001b[39;00m \u001b[38;5;167;01mTypeError\u001b[39;00m(\u001b[38;5;124m\"\u001b[39m\u001b[38;5;124mCannot index by location index with a non-integer key\u001b[39m\u001b[38;5;124m\"\u001b[39m)\n\u001b[0;32m   1519\u001b[0m \u001b[38;5;66;03m# validate the location\u001b[39;00m\n\u001b[1;32m-> 1520\u001b[0m \u001b[38;5;28;43mself\u001b[39;49m\u001b[38;5;241;43m.\u001b[39;49m\u001b[43m_validate_integer\u001b[49m\u001b[43m(\u001b[49m\u001b[43mkey\u001b[49m\u001b[43m,\u001b[49m\u001b[43m \u001b[49m\u001b[43maxis\u001b[49m\u001b[43m)\u001b[49m\n\u001b[0;32m   1522\u001b[0m \u001b[38;5;28;01mreturn\u001b[39;00m \u001b[38;5;28mself\u001b[39m\u001b[38;5;241m.\u001b[39mobj\u001b[38;5;241m.\u001b[39m_ixs(key, axis\u001b[38;5;241m=\u001b[39maxis)\n",
      "File \u001b[1;32m~\\anaconda3\\lib\\site-packages\\pandas\\core\\indexing.py:1452\u001b[0m, in \u001b[0;36m_iLocIndexer._validate_integer\u001b[1;34m(self, key, axis)\u001b[0m\n\u001b[0;32m   1450\u001b[0m len_axis \u001b[38;5;241m=\u001b[39m \u001b[38;5;28mlen\u001b[39m(\u001b[38;5;28mself\u001b[39m\u001b[38;5;241m.\u001b[39mobj\u001b[38;5;241m.\u001b[39m_get_axis(axis))\n\u001b[0;32m   1451\u001b[0m \u001b[38;5;28;01mif\u001b[39;00m key \u001b[38;5;241m>\u001b[39m\u001b[38;5;241m=\u001b[39m len_axis \u001b[38;5;129;01mor\u001b[39;00m key \u001b[38;5;241m<\u001b[39m \u001b[38;5;241m-\u001b[39mlen_axis:\n\u001b[1;32m-> 1452\u001b[0m     \u001b[38;5;28;01mraise\u001b[39;00m \u001b[38;5;167;01mIndexError\u001b[39;00m(\u001b[38;5;124m\"\u001b[39m\u001b[38;5;124msingle positional indexer is out-of-bounds\u001b[39m\u001b[38;5;124m\"\u001b[39m)\n",
      "\u001b[1;31mIndexError\u001b[0m: single positional indexer is out-of-bounds"
     ]
    }
   ],
   "source": [
    "# Specify the row number you want to read\n",
    "row_number = row_number +1\n",
    "# row_number = 79 # For example, reading the third row (index 2)\n",
    "\n",
    "# Read the specified row using iloc\n",
    "selected_row = df_org_names.iloc[row_number]\n",
    "\n",
    "print(selected_row)"
   ]
  },
  {
   "cell_type": "code",
   "execution_count": 948,
   "id": "182fa4c6",
   "metadata": {},
   "outputs": [
    {
     "name": "stdout",
     "output_type": "stream",
     "text": [
      "379                               Zurich Insurance Malaysia Berhad\n",
      "676                                 Zurich Takaful Malaysia Berhad\n",
      "1883                      Zurich General Insurance Malaysia Berhad\n",
      "3084                         Zurich Life Insurance Malaysia Berhad\n",
      "4144                             *Zurich Insurance Malaysia Berhad\n",
      "7345                                               Zurich Malaysia\n",
      "21307             MCIS Zurich Insurance Berhad (Agency Department)\n",
      "22002                                        KEB Empire Zurich ALC\n",
      "32041                                               TAKAFUL ZURICH\n",
      "33186     MCIS Zurich Insurance Berhad (Life Business Development)\n",
      "44605                             Zurich Insurance Malaysia Berhad\n",
      "46897                        MCIS Zurich Insurance  ,Ampang Agency\n",
      "47888                     SNGroup (Zurich Takaful Malaysia Berhad)\n",
      "49438                     SNGroup (Zurich Takaful Malaysia Berhad)\n",
      "56816                                         IWP (Zurich Takaful)\n",
      "84216                                     Zurich Financial Advisor\n",
      "142933                                                 Zurich Muar\n",
      "169352                                          Zurich Takaful_nor\n",
      "202088                           Mak,Ng,Shao & Kee (Menara Zurich)\n",
      "207828                                                 MRMC ZURICH\n",
      "210926                                  Zurich Takaful - IWP Group\n",
      "213687                      Zurich Life Insurance Malaysia (North)\n",
      "231611                                          Y&L Zurich Sdn Bhd\n",
      "246970                                 MCIS Zurich (Ismail Agency)\n",
      "Name: company_name, dtype: object\n"
     ]
    },
    {
     "data": {
      "text/plain": [
       "company_id                    24\n",
       "company_name                  24\n",
       "address                       11\n",
       "company_name_slug             24\n",
       "company_no                    14\n",
       "reviews_count                 24\n",
       "average_company_rating        24\n",
       "company_review_summary_url    24\n",
       "company_review_url            24\n",
       "foreign_company_id            24\n",
       "map_address                   11\n",
       "map_latitude                   4\n",
       "map_longitude                  4\n",
       "industry                      24\n",
       "website_url                    4\n",
       "dtype: int64"
      ]
     },
     "execution_count": 948,
     "metadata": {},
     "output_type": "execute_result"
    }
   ],
   "source": [
    "# Replace 'keyword' with the keyword you want to search for\n",
    "keyword = 'Zurich'\n",
    "\n",
    "# Filter rows containing the keyword in the 'company_name' column\n",
    "filtered_df = df[df['company_name'].str.contains(keyword, case=False, na=False)]\n",
    "\n",
    "# Print the filtered DataFrame\n",
    "print(filtered_df['company_name'])\n",
    "filtered_df.count()"
   ]
  },
  {
   "cell_type": "code",
   "execution_count": 949,
   "id": "9bce15ff",
   "metadata": {},
   "outputs": [
    {
     "name": "stdout",
     "output_type": "stream",
     "text": [
      "Unique_ORG_NAME                              Zurich Life Insurance Malaysia\n",
      "company_id                                                          1304551\n",
      "company_name                          Zurich Life Insurance Malaysia Berhad\n",
      "address                                                                 NaN\n",
      "company_name_slug             zurich-life-insurance-malaysia-berhad-1304551\n",
      "company_no                                                      IP0523522-W\n",
      "reviews_count                                                            22\n",
      "average_company_rating                                               4.0909\n",
      "company_review_summary_url       /companies/1304551/company-reviews/summary\n",
      "company_review_url                       /companies/1304551/company-reviews\n",
      "foreign_company_id                                                 164215.0\n",
      "map_address                                                             NaN\n",
      "map_latitude                                                            NaN\n",
      "map_longitude                                                           NaN\n",
      "industry                                                          Insurance\n",
      "website_url                                                             NaN\n",
      "Name: 252, dtype: object\n"
     ]
    }
   ],
   "source": [
    "#pairing the two and making a new dataframe\n",
    "\n",
    "# Specify the row number you want to pair\n",
    "#this one FROM JOBSTREET\n",
    "row_number_2 = 3084  \n",
    "\n",
    "# Read the specified rows from both DataFrames using iloc\n",
    "selected_row_org_names = df_org_names.iloc[row_number]\n",
    "selected_row_df = df.iloc[row_number_2]\n",
    "\n",
    "# Concatenate the rows to create a new DataFrame\n",
    "paired_row = pd.concat([selected_row_org_names, selected_row_df])\n",
    "\n",
    "# Transpose the new DataFrame to have a single row\n",
    "paired_row = paired_row.to_frame().transpose()\n",
    "\n",
    "# Append the paired_row into the paired_rows_collection DataFrame\n",
    "paired_rows_collection = paired_rows_collection.append(paired_row, ignore_index=True)\n",
    "\n",
    "# Print the specific row using the row_number\n",
    "print(paired_rows_collection.iloc[row_number])"
   ]
  },
  {
   "cell_type": "code",
   "execution_count": 131,
   "id": "2605d6b8",
   "metadata": {},
   "outputs": [],
   "source": [
    "# #checking from jobstreet, assuming have multiples of the company\n",
    "# # Specify the company name you want to search for\n",
    "# target_company_name = 'Banyan Tree Kuala Lumpur'\n",
    "\n",
    "# # Filter rows based on the specified company name\n",
    "# target_company_rows = df[df['company_name'] == target_company_name]\n",
    "\n",
    "# # Set the display option to show all the content of the columns\n",
    "# pd.set_option('display.max_colwidth', None)\n",
    "\n",
    "# # Print the entire rows for the target company\n",
    "# print(target_company_rows)"
   ]
  },
  {
   "cell_type": "code",
   "execution_count": 943,
   "id": "ed8c5f85",
   "metadata": {},
   "outputs": [],
   "source": [
    "# # Assuming df_org_names is your DataFrame\n",
    "# selected_row_org_names = df_org_names.iloc[row_number]\n",
    "\n",
    "# # List of column names for the empty columns\n",
    "# empty_columns = [\n",
    "#     'company_id',\n",
    "#     'company_name',\n",
    "#     'address',\n",
    "#     'company_name_slug',\n",
    "#     'company_no',\n",
    "#     'reviews_count',\n",
    "#     'average_company_rating',\n",
    "#     'company_review_summary_url',\n",
    "#     'company_review_url',\n",
    "#     'foreign_company_id',\n",
    "#     'map_address',\n",
    "#     'map_latitude',\n",
    "#     'map_longitude',\n",
    "#     'industry',\n",
    "#     'website_url'\n",
    "# ]\n",
    "\n",
    "# # Add the empty columns to the selected row\n",
    "# for column in empty_columns:\n",
    "#     selected_row_org_names[column] = None\n",
    "\n",
    "# # Now, selected_row_org_names contains the original selected row with empty columns\n",
    "\n",
    "# # selected_row_org_names\n",
    "# # Append the paired_row into the paired_rows_collection DataFrame\n",
    "# paired_rows_collection = paired_rows_collection.append(selected_row_org_names, ignore_index=True)\n",
    "\n",
    "# # paired_rows_collection.head()\n",
    "# # Print the specific row using the row_number\n",
    "# print(paired_rows_collection.iloc[row_number])"
   ]
  },
  {
   "cell_type": "code",
   "execution_count": 951,
   "id": "28751ec1",
   "metadata": {},
   "outputs": [],
   "source": [
    "# paired_rows_collection\n",
    "paired_rows_collection.to_excel('sample_dataframe.xlsx', index=False)"
   ]
  },
  {
   "cell_type": "code",
   "execution_count": 405,
   "id": "ac1a1039",
   "metadata": {},
   "outputs": [],
   "source": [
    "# paired_rows_collection"
   ]
  }
 ],
 "metadata": {
  "kernelspec": {
   "display_name": "Python 3 (ipykernel)",
   "language": "python",
   "name": "python3"
  },
  "language_info": {
   "codemirror_mode": {
    "name": "ipython",
    "version": 3
   },
   "file_extension": ".py",
   "mimetype": "text/x-python",
   "name": "python",
   "nbconvert_exporter": "python",
   "pygments_lexer": "ipython3",
   "version": "3.9.12"
  }
 },
 "nbformat": 4,
 "nbformat_minor": 5
}
