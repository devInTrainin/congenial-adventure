{
 "cells": [
  {
   "cell_type": "code",
   "execution_count": 1,
   "id": "95f07201",
   "metadata": {},
   "outputs": [],
   "source": [
    "import pandas as pd\n",
    "# import warnings\n",
    "# import re\n",
    "\n",
    "# # Suppress the specific UserWarning from openpyxl\n",
    "# warnings.filterwarnings(\"ignore\", category=UserWarning, message=\"Data Validation extension is not supported\")"
   ]
  },
  {
   "cell_type": "code",
   "execution_count": 271,
   "id": "ce8ac573",
   "metadata": {},
   "outputs": [],
   "source": [
    "# output_csv_path = 'newer_dataframe.csv'\n",
    "# df.to_csv(output_csv_path, index=False)\n",
    "\n",
    "# print(f\"New DataFrame saved to '{output_csv_path}'\")\n",
    "\n",
    "# Specify the path to the CSV file\n",
    "# csv_file_path = 'COMPANY LIST2.xlsx'\n",
    "csv_file_path = 'newer_dataframe_4_13.csv'\n",
    "\n",
    "# Read the CSV file into a DataFrame\n",
    "# df = pd.read_excel(csv_file_path)\n",
    "df = pd.read_csv(csv_file_path)\n",
    "# df.info()"
   ]
  },
  {
   "cell_type": "code",
   "execution_count": 303,
   "id": "00cbdb60",
   "metadata": {},
   "outputs": [
    {
     "name": "stdout",
     "output_type": "stream",
     "text": [
      "Enter the row index: 150\n",
      "Company name                                                                              GAN HONG HUAT\n",
      "Company address      287-G, Jalan Haruan 5/7, Pusat Komersial Oakland 2, 70300 Seremban Negeri Sembilan\n",
      "Secondary Address                                                                                   NaN\n",
      "Name: 150, dtype: object\n",
      "Enter 1 for 'Company address' or 2 for 'Secondary Address': 1\n",
      "Enter the new address: 287-G, Jalan Haruan 5/7, Pusat Komersial Oakland 2, 70300 Seremban, Negeri Sembilan, Malaysia\n",
      "Address updated successfully.\n",
      "##################################################################################\n",
      "Company name                                                                                         GAN HONG HUAT\n",
      "Company address      287-G, Jalan Haruan 5/7, Pusat Komersial Oakland 2, 70300 Seremban, Negeri Sembilan, Malaysia\n",
      "Secondary Address                                                                                              NaN\n",
      "Name: 150, dtype: object\n"
     ]
    }
   ],
   "source": [
    "def edit_address(row_index, column_option, new_address):\n",
    "    column_name = 'Company address' if column_option == 1 else 'Secondary Address'\n",
    "    df.at[row_index, column_name] = new_address\n",
    "        \n",
    "row_index = int(input(\"Enter the row index: \"))\n",
    "##################################################################################\n",
    "# Selecting specific columns for the given row index\n",
    "selected_columns = ['Company name', 'Company address', 'Secondary Address']\n",
    "selected_row = df.loc[row_index, selected_columns]\n",
    "\n",
    "# Set display options to show the full content of the columns\n",
    "pd.set_option('display.max_colwidth', None)\n",
    "\n",
    "print(selected_row)\n",
    "##################################################################################\n",
    "column_option = int(input(\"Enter 1 for 'Company address' or 2 for 'Secondary Address': \"))\n",
    "new_address = input(\"Enter the new address: \")\n",
    "\n",
    "if column_option in [1, 2]:\n",
    "    edit_address(row_index, column_option, new_address)\n",
    "    print(\"Address updated successfully.\")\n",
    "    print(\"##################################################################################\")\n",
    "else:\n",
    "    print(\"Invalid option. Please enter 1 for 'Company address' or 2 for 'Secondary Address'.\")\n",
    "\n",
    "##################################################################################    \n",
    "# Selecting specific columns for the given row index\n",
    "selected_columns = ['Company name', 'Company address', 'Secondary Address']\n",
    "selected_row = df.loc[row_index, selected_columns]\n",
    "\n",
    "# Set display options to show the full content of the columns\n",
    "pd.set_option('display.max_colwidth', None)\n",
    "\n",
    "print(selected_row)"
   ]
  },
  {
   "cell_type": "code",
   "execution_count": 304,
   "id": "9db04ab1",
   "metadata": {},
   "outputs": [
    {
     "name": "stdout",
     "output_type": "stream",
     "text": [
      "New DataFrame saved to 'newer_dataframe_5_11.csv'\n"
     ]
    }
   ],
   "source": [
    "# saving the dataframe\n",
    "output_csv_path = 'newer_dataframe_5_11.csv'\n",
    "df.to_csv(output_csv_path, index=False)\n",
    "\n",
    "print(f\"New DataFrame saved to '{output_csv_path}'\")"
   ]
  },
  {
   "cell_type": "markdown",
   "id": "48f7c9ea",
   "metadata": {},
   "source": [
    "# Test for jobstreet"
   ]
  },
  {
   "cell_type": "code",
   "execution_count": 10,
   "id": "2bf1ae34",
   "metadata": {},
   "outputs": [
    {
     "name": "stdout",
     "output_type": "stream",
     "text": [
      "176914    CREATIVE MINDS COOPERATION\n",
      "Name: company_name, dtype: object\n"
     ]
    },
    {
     "data": {
      "text/plain": [
       "company_id                    1\n",
       "company_name                  1\n",
       "address                       0\n",
       "company_name_slug             1\n",
       "company_no                    1\n",
       "reviews_count                 1\n",
       "average_company_rating        1\n",
       "company_review_summary_url    1\n",
       "company_review_url            1\n",
       "foreign_company_id            1\n",
       "map_address                   0\n",
       "map_latitude                  0\n",
       "map_longitude                 0\n",
       "industry                      1\n",
       "website_url                   0\n",
       "dtype: int64"
      ]
     },
     "execution_count": 10,
     "metadata": {},
     "output_type": "execute_result"
    }
   ],
   "source": [
    "# import pandas as pd\n",
    "\n",
    "# Replace 'csv_file_path' with the actual path to your CSV file\n",
    "csv_file_path = '2.jobstreet_company_info_main_industry_class.csv'\n",
    "\n",
    "# Replace 'keyword' with the keyword you want to search for\n",
    "keyword = 'creative minds cooperation'\n",
    "\n",
    "# Read the CSV file into a pandas DataFrame\n",
    "df_jobstreet = pd.read_csv(csv_file_path)\n",
    "\n",
    "# Filter rows containing the keyword in the 'company_name' column\n",
    "filtered_df = df_jobstreet[df_jobstreet['company_name'].str.contains(keyword, case=False, na=False)]\n",
    "\n",
    "# Print the filtered DataFrame\n",
    "print(filtered_df['company_name'])\n",
    "filtered_df.count()"
   ]
  },
  {
   "cell_type": "code",
   "execution_count": 11,
   "id": "e6a33f44",
   "metadata": {},
   "outputs": [
    {
     "name": "stdout",
     "output_type": "stream",
     "text": [
      "             company_id                company_name address  \\\n",
      "176914  159954591954391  CREATIVE MINDS COOPERATION     NaN   \n",
      "\n",
      "                                 company_name_slug        company_no  \\\n",
      "176914  creative-minds-cooperation-159954591954391  MAIESHAA PACIFIC   \n",
      "\n",
      "        reviews_count  average_company_rating  \\\n",
      "176914              0                     0.0   \n",
      "\n",
      "                                company_review_summary_url  \\\n",
      "176914  /companies/159954591954391/company-reviews/summary   \n",
      "\n",
      "                                company_review_url  foreign_company_id  \\\n",
      "176914  /companies/159954591954391/company-reviews            193018.0   \n",
      "\n",
      "       map_address  map_latitude  map_longitude  \\\n",
      "176914         NaN           NaN            NaN   \n",
      "\n",
      "                                  industry website_url  \n",
      "176914  Consulting (Business & Management)         NaN  \n"
     ]
    }
   ],
   "source": [
    "# import pandas as pd\n",
    "\n",
    "# # Specify the path to the CSV file\n",
    "# csv_file_path = '2.jobstreet_company_info_main_industry_class.csv'\n",
    "\n",
    "# # Read the CSV file into a DataFrame\n",
    "# df = pd.read_csv(csv_file_path)\n",
    "\n",
    "#MEDIA PRIMA TV3\n",
    "\n",
    "# Specify the company name you want to search for\n",
    "target_company_name = 'CREATIVE MINDS COOPERATION'\n",
    "\n",
    "# Filter rows based on the specified company name\n",
    "target_company_rows = df_jobstreet[df_jobstreet['company_name'] == target_company_name]\n",
    "\n",
    "# Set the display option to show all the content of the columns\n",
    "pd.set_option('display.max_colwidth', None)\n",
    "\n",
    "# Print the entire rows for the target company\n",
    "print(target_company_rows)\n"
   ]
  }
 ],
 "metadata": {
  "kernelspec": {
   "display_name": "Python 3 (ipykernel)",
   "language": "python",
   "name": "python3"
  },
  "language_info": {
   "codemirror_mode": {
    "name": "ipython",
    "version": 3
   },
   "file_extension": ".py",
   "mimetype": "text/x-python",
   "name": "python",
   "nbconvert_exporter": "python",
   "pygments_lexer": "ipython3",
   "version": "3.9.12"
  }
 },
 "nbformat": 4,
 "nbformat_minor": 5
}
