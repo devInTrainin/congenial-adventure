{
 "cells": [
  {
   "cell_type": "code",
   "execution_count": 198,
   "id": "f6ffb990",
   "metadata": {},
   "outputs": [],
   "source": [
    "#this is an automatic pairing attempt with geocode, using the company and the poskod work\n",
    "import pandas as pd\n",
    "\n",
    "# Read the FOM list.xlsx file and assign it to a dataframe\n",
    "fom_df = pd.read_excel('new FOM list.xlsx')\n",
    "\n",
    "# Read the Poskod_geocoded_Kulai_Kulim.xlsx file and assign it to another dataframe\n",
    "poskod_df = pd.read_excel('Poskod_geocoded_Kulai_Kulim.xlsx')"
   ]
  },
  {
   "cell_type": "code",
   "execution_count": 199,
   "id": "b2e50bb8",
   "metadata": {},
   "outputs": [
    {
     "name": "stdout",
     "output_type": "stream",
     "text": [
      "                                             address  Latitude   Longitude\n",
      "0  Stellar Suites, Jln Puteri 4/7, Bandar Puteri ...  3.017443  101.614070\n",
      "1  Lot 19-ACD, Level 5, Suites A, Menara Pandan B...  3.128181  101.754464\n",
      "2  Cheras Business Centre Cheras Kuala Lumpur Fed...  3.100545  101.739516\n",
      "3  No. 5-1, Level 5, PV128, No. 128, Jalan Gentin...  3.201094  101.717750\n",
      "4  Unit 3.3A, 3rd Floor, Surian Tower, No. 1 Jala...  3.155682  101.609527\n"
     ]
    }
   ],
   "source": [
    "# fom_df.head()\n",
    "selected_columns = [\"address\", \"Latitude\", \"Longitude\"]\n",
    "subset_fom_df = fom_df[selected_columns]\n",
    "print(subset_fom_df.head())"
   ]
  },
  {
   "cell_type": "code",
   "execution_count": 200,
   "id": "be964d15",
   "metadata": {},
   "outputs": [
    {
     "name": "stdout",
     "output_type": "stream",
     "text": [
      "   POSKOD               ADDRESS    CITY   STATE  Latitude   Longitude\n",
      "0    1000            Alor Redeh  Kangar  Perlis  6.440633  100.198371\n",
      "1    1000       Alor Tok Terang  Kangar  Perlis  6.435442  100.192123\n",
      "2    1000           Bohor Gelam  Kangar  Perlis  6.415518  100.241577\n",
      "3    1000  Jalan Abi Tok Hashim  Kangar  Perlis  6.451320  100.192883\n",
      "4    1000       Jalan Alor Sena  Kangar  Perlis  6.494892  100.229450\n"
     ]
    }
   ],
   "source": [
    "# poskod_df.head()\n",
    "selected_columns = [\"POSKOD\", \"ADDRESS\", \"CITY\", \"STATE\",\"Latitude\",\"Longitude\"]\n",
    "subset_fom_df = poskod_df[selected_columns]\n",
    "print(subset_fom_df.head())"
   ]
  },
  {
   "cell_type": "code",
   "execution_count": 201,
   "id": "629cded6",
   "metadata": {},
   "outputs": [
    {
     "name": "stdout",
     "output_type": "stream",
     "text": [
      "['Perlis' 'Kedah' 'Penang' 'Kelantan' 'Terengganu' 'Pahang' 'Selangor'\n",
      " 'Perak' 'Kuala Lumpur' 'PJY' 'Negeri Sembilan' 'Melaka' 'Johor' 'LBN'\n",
      " 'Sabah' 'Sarawak']\n"
     ]
    }
   ],
   "source": [
    "unique_states = poskod_df['STATE'].unique()\n",
    "# print(unique_states)\n",
    "# unique_states = [state if state not in {\"PJY\", \"LBN\"} else \"Putrajaya\" if state == \"PJY\" else \"Labuan\" for state in unique_states]\n",
    "print(unique_states)"
   ]
  },
  {
   "cell_type": "code",
   "execution_count": 202,
   "id": "2b17fc1d",
   "metadata": {},
   "outputs": [],
   "source": [
    "fom_df['address'] = fom_df['address'].astype(str)\n",
    "\n",
    "\n",
    "# Function to find a matching state\n",
    "def find_matching_state(address):\n",
    "    # Split the address into parts by comma and reverse the order\n",
    "    address_parts = [part.strip() for part in reversed(address.split(','))]\n",
    "    for part in address_parts:\n",
    "        for state in unique_states:\n",
    "            if state.lower() in part.lower():\n",
    "                return state\n",
    "    # Handle special case for \"Pulau Pinang\"\n",
    "    if \"pulau pinang\" in address.lower():\n",
    "        return \"Penang\"\n",
    "    # Handle special case for \"Melaka\"\n",
    "    if \"malacca\" in address.lower():\n",
    "        return \"Melaka\"\n",
    "    # Handle special case for \"Putrajaya\"\n",
    "    if \"putrajaya\" in address.lower():\n",
    "        return \"PJY\"\n",
    "    return None\n",
    "\n",
    "# Apply the function to the 'address' column to find matching states\n",
    "fom_df['STATE'] = fom_df['address'].apply(find_matching_state)\n",
    "\n",
    "# Display the first few rows of the updated fom_df dataframe\n",
    "# print(fom_df.head())\n"
   ]
  },
  {
   "cell_type": "code",
   "execution_count": 203,
   "id": "6c8c7a8d",
   "metadata": {},
   "outputs": [],
   "source": [
    "# # Save the DataFrame to an Excel file\n",
    "# fom_df.to_excel('fom_df_output.xlsx', index=False)"
   ]
  },
  {
   "cell_type": "code",
   "execution_count": 204,
   "id": "a19fc940",
   "metadata": {},
   "outputs": [],
   "source": [
    "unique_cities = poskod_df['CITY'].unique()\n",
    "# unique_states = [state if state not in {\"PJY\", \"LBN\"} else \"Putrajaya\" if state == \"PJY\" else \"Labuan\" for state in unique_states]\n",
    "# print(unique_cities)"
   ]
  },
  {
   "cell_type": "code",
   "execution_count": 205,
   "id": "4ab51d34",
   "metadata": {},
   "outputs": [],
   "source": [
    "# Function to find a matching state\n",
    "def find_matching_cities(address, state_to_match):\n",
    "    if pd.notna(state_to_match):  # Check if the 'State' column has a value\n",
    "        # Split the address into parts by comma and reverse the order\n",
    "        address_parts = [part.strip() for part in reversed(address.split(','))]\n",
    "        for part in address_parts:\n",
    "            for state in unique_cities:\n",
    "                if state.lower() in part.lower():\n",
    "                    return state\n",
    "    #     # Handle special case for \"Pulau Pinang\"\n",
    "    #     if \"pulau pinang\" in address.lower():\n",
    "    #         return \"Penang\"\n",
    "    #     # Handle special case for \"Melaka\"\n",
    "    #     if \"malacca\" in address.lower():\n",
    "    #         return \"Melaka\"\n",
    "        return None\n",
    "\n",
    "# Apply the function to the 'address' column to find matching states\n",
    "fom_df['CITY'] = fom_df.apply(lambda row: find_matching_cities(row['address'], row['STATE']), axis=1)\n",
    "\n",
    "# # Reorder the columns to place \"City\" behind \"State\"\n",
    "# fom_df2 = fom_df[['address','CITY','STATE']]\n",
    "\n",
    "# # Display the first few rows of the updated fom_df dataframe\n",
    "# print(fom_df2.head())\n"
   ]
  },
  {
   "cell_type": "code",
   "execution_count": 206,
   "id": "bb9a8699",
   "metadata": {},
   "outputs": [],
   "source": [
    "# # Save the DataFrame to an Excel file\n",
    "# fom_df.to_excel('fom_df_output.xlsx', index=False)"
   ]
  },
  {
   "cell_type": "markdown",
   "id": "91c37e4f",
   "metadata": {},
   "source": [
    "## this reshuffles the columns"
   ]
  },
  {
   "cell_type": "code",
   "execution_count": 207,
   "id": "9d117aef",
   "metadata": {},
   "outputs": [],
   "source": [
    "fom_df3 = fom_df\n",
    "\n",
    "# Define the column names in the desired order\n",
    "desired_order = ['address', 'CITY', 'STATE']\n",
    "\n",
    "# Create a list of all columns in the original order\n",
    "all_columns = list(fom_df3.columns)\n",
    "\n",
    "# Reorder the columns while keeping the original order for other columns\n",
    "new_column_order = desired_order + [col for col in all_columns if col not in desired_order]\n",
    "fom_df3 = fom_df3[new_column_order]\n",
    "\n",
    "# Display the updated fom_df dataframe\n",
    "# print(fom_df3.head())\n",
    "\n",
    "# Save the DataFrame to an Excel file\n",
    "fom_df3.to_excel('fom_df3.xlsx', index=False)"
   ]
  },
  {
   "cell_type": "code",
   "execution_count": 208,
   "id": "bcc1d1f0",
   "metadata": {},
   "outputs": [],
   "source": [
    "## for those with STATE and CITY try comparing the geocode\n",
    "# print(fom_df3.head())\n",
    "#poskod_df"
   ]
  },
  {
   "cell_type": "markdown",
   "id": "f01dc954",
   "metadata": {},
   "source": [
    "## This is where we manually edit and fix the problematic addresses. The ones with wrong states, the missing ones, too short ones, etc"
   ]
  },
  {
   "cell_type": "code",
   "execution_count": 220,
   "id": "2f9f37d7",
   "metadata": {},
   "outputs": [],
   "source": [
    "# Read the FOM list.xlsx file and assign it to a dataframe\n",
    "fom_df3 = pd.read_excel('fom_df3.xlsx')"
   ]
  },
  {
   "cell_type": "code",
   "execution_count": 221,
   "id": "fc032deb",
   "metadata": {},
   "outputs": [],
   "source": [
    "from geopy.distance import geodesic\n",
    "\n",
    "# Assuming you have two dataframes: fom_df3 and poskod_df\n",
    "\n",
    "# Define a function to find the closest row in poskod_df for a given row in fom_df3\n",
    "def find_closest(row):\n",
    "    fom_location = (row['Latitude'], row['Longitude'])\n",
    "    poskod_subset = poskod_df[(poskod_df['CITY'] == row['CITY']) & (poskod_df['STATE'] == row['STATE'])\n",
    "                            & (poskod_df['Latitude'].notnull()) & (poskod_df['Longitude'].notnull())]\n",
    "    \n",
    "    if poskod_subset.empty:\n",
    "        return pd.Series([None, None, None, None], index=['pair_ADDRESS', 'pair_POSKOD', 'pair_CITY', 'pair_STATE'])\n",
    "    \n",
    "    poskod_subset['distance'] = poskod_subset.apply(\n",
    "        lambda poskod_row: geodesic(fom_location, (poskod_row['Latitude'], poskod_row['Longitude'])).miles,\n",
    "        axis=1\n",
    "    )\n",
    "    \n",
    "    closest_row = poskod_subset.loc[poskod_subset['distance'].idxmin()]\n",
    "    \n",
    "    return pd.Series([closest_row['ADDRESS'], closest_row['POSKOD'], closest_row['CITY'], closest_row['STATE']],\n",
    "                     index=['pair_ADDRESS', 'pair_POSKOD', 'pair_CITY', 'pair_STATE'])\n",
    "\n",
    "# Apply the function to each row in fom_df3 and concatenate the results\n",
    "fom_df3[['pair_ADDRESS', 'pair_POSKOD', 'pair_CITY', 'pair_STATE']] = fom_df3.apply(find_closest, axis=1)\n",
    "\n",
    "# Remove the 'distance' column if you added it to the poskod_df\n",
    "if 'distance' in poskod_df.columns:\n",
    "    poskod_df.drop('distance', axis=1, inplace=True)"
   ]
  },
  {
   "cell_type": "code",
   "execution_count": 222,
   "id": "191cf1da",
   "metadata": {},
   "outputs": [
    {
     "name": "stdout",
     "output_type": "stream",
     "text": [
      "                                             address           CITY  \\\n",
      "0  Stellar Suites, Jln Puteri 4/7, Bandar Puteri ...        Puchong   \n",
      "1  Lot 19-ACD, Level 5, Suites A, Menara Pandan B...   Kuala Lumpur   \n",
      "2  Cheras Business Centre Cheras Kuala Lumpur Fed...         Cheras   \n",
      "3  No. 5-1, Level 5, PV128, No. 128, Jalan Gentin...   Kuala Lumpur   \n",
      "4  Unit 3.3A, 3rd Floor, Surian Tower, No. 1 Jala...  Petaling Jaya   \n",
      "\n",
      "          STATE                          Unique_ORG_NAME    company_id  \\\n",
      "0      Selangor  1Training Worklife Management Sdn. Bhd.  1.650000e+14   \n",
      "1  Kuala Lumpur                 Abbaz Advisory Sdn. Bhd.  8.625140e+05   \n",
      "2  Kuala Lumpur           AC SUCCESS CONSULTANTS SDN BHD  9.860750e+05   \n",
      "3  Kuala Lumpur                               Adam & Co.  6.149150e+05   \n",
      "4      Selangor        Advent MS Tax Consultants Sdn Bhd           NaN   \n",
      "\n",
      "                              company_name  Latitude   Longitude  \\\n",
      "0  1TRAINING WORKLIFE MANAGEMENT SDN. BHD.  3.017443  101.614070   \n",
      "1                 ABBAZ ADVISORY SDN. BHD.  3.128181  101.754464   \n",
      "2           AC SUCCESS CONSULTANTS SDN BHD  3.100545  101.739516   \n",
      "3                               Adam & Co.  3.201094  101.717750   \n",
      "4                                      NaN  3.155682  101.609527   \n",
      "\n",
      "                               company_name_slug company_no  ...  \\\n",
      "0  1training-worklife-management-164734351389023   908690-P  ...   \n",
      "1                          abbaz-advisory-862514  1088889-V  ...   \n",
      "2                  ac-success-consultants-986075   871599-U  ...   \n",
      "3                               adam-n-co-614915        NaN  ...   \n",
      "4                                            NaN        NaN  ...   \n",
      "\n",
      "   foreign_company_id                                        map_address  \\\n",
      "0            249519.0                                                NaN   \n",
      "1            101023.0  Lot 19 ACD, Level 5,Menara Pandan B, Persiaran...   \n",
      "2            108687.0  Cheras Business Centre Cheras Kuala Lumpur Fed...   \n",
      "3             14032.0                                                NaN   \n",
      "4                 NaN                                                NaN   \n",
      "\n",
      "  map_latitude map_longitude                            industry  \\\n",
      "0          NaN           NaN                              Others   \n",
      "1          NaN           NaN  Consulting (Business & Management)   \n",
      "2     3.099896      101.7397       Accounting/Audit/Tax Services   \n",
      "3          NaN           NaN                           Law/Legal   \n",
      "4          NaN           NaN                                 NaN   \n",
      "\n",
      "                   website_url                    pair_ADDRESS  pair_POSKOD  \\\n",
      "0                          NaN           Taman Lestari Puchong      47110.0   \n",
      "1  https://www.abbazgroup.com/  Majlis Perbandaran Ampang Jaya      55100.0   \n",
      "2                          NaN           Taman Mestika, Cheras      56100.0   \n",
      "3                          NaN                      Danau Kota      53300.0   \n",
      "4                          NaN               Mutiara Damansara      47810.0   \n",
      "\n",
      "       pair_CITY    pair_STATE  \n",
      "0        Puchong      Selangor  \n",
      "1   Kuala Lumpur  Kuala Lumpur  \n",
      "2         Cheras  Kuala Lumpur  \n",
      "3   Kuala Lumpur  Kuala Lumpur  \n",
      "4  Petaling Jaya      Selangor  \n",
      "\n",
      "[5 rows x 24 columns]\n"
     ]
    }
   ],
   "source": [
    "print(fom_df3.head())"
   ]
  },
  {
   "cell_type": "code",
   "execution_count": 223,
   "id": "fcd49e22",
   "metadata": {},
   "outputs": [],
   "source": [
    "# Save the DataFrame to an Excel file\n",
    "fom_df3.to_excel('fom_df4.xlsx', index=False)"
   ]
  },
  {
   "cell_type": "code",
   "execution_count": null,
   "id": "55d70fc2",
   "metadata": {},
   "outputs": [],
   "source": []
  }
 ],
 "metadata": {
  "kernelspec": {
   "display_name": "Python 3 (ipykernel)",
   "language": "python",
   "name": "python3"
  },
  "language_info": {
   "codemirror_mode": {
    "name": "ipython",
    "version": 3
   },
   "file_extension": ".py",
   "mimetype": "text/x-python",
   "name": "python",
   "nbconvert_exporter": "python",
   "pygments_lexer": "ipython3",
   "version": "3.9.12"
  }
 },
 "nbformat": 4,
 "nbformat_minor": 5
}
