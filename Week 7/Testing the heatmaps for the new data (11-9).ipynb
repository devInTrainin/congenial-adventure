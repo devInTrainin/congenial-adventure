{
 "cells": [
  {
   "cell_type": "markdown",
   "id": "859e1848",
   "metadata": {},
   "source": [
    "- The main issue is that 1, we might not actually use the johor parliament inside the excel, \n",
    "- number 2, there is many duplicates inside the parliament standard like Kulai has 3"
   ]
  },
  {
   "cell_type": "code",
   "execution_count": 2,
   "id": "322e54fe",
   "metadata": {},
   "outputs": [],
   "source": [
    "# above is from last week, idk how to solve it but for now i think can put the pushpin and choropleth inside the heatmap now"
   ]
  },
  {
   "cell_type": "code",
   "execution_count": null,
   "id": "9f9b91cb",
   "metadata": {},
   "outputs": [],
   "source": []
  }
 ],
 "metadata": {
  "kernelspec": {
   "display_name": "Python 3 (ipykernel)",
   "language": "python",
   "name": "python3"
  },
  "language_info": {
   "codemirror_mode": {
    "name": "ipython",
    "version": 3
   },
   "file_extension": ".py",
   "mimetype": "text/x-python",
   "name": "python",
   "nbconvert_exporter": "python",
   "pygments_lexer": "ipython3",
   "version": "3.9.12"
  }
 },
 "nbformat": 4,
 "nbformat_minor": 5
}
