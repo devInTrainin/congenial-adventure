{
 "cells": [
  {
   "cell_type": "code",
   "execution_count": 1,
   "id": "931dd4bf",
   "metadata": {},
   "outputs": [],
   "source": [
    "import pandas as pd"
   ]
  },
  {
   "cell_type": "code",
   "execution_count": 18,
   "id": "8d78808e",
   "metadata": {},
   "outputs": [],
   "source": [
    "# # Read CSV and create DataFrame\n",
    "# file_path = 'my-poskod.csv'\n",
    "# df = pd.read_csv(file_path)\n",
    "\n",
    "# # Specify the state you want to filter by\n",
    "# state_name = 'Selangor'\n",
    "\n",
    "# # Filter rows by state and print the result\n",
    "# state_rows = df.loc[df['STATE'] == state_name]\n",
    "# # print(state_rows)"
   ]
  },
  {
   "cell_type": "markdown",
   "id": "080a945c",
   "metadata": {},
   "source": [
    "# this is the poskod search method"
   ]
  },
  {
   "cell_type": "code",
   "execution_count": 25,
   "id": "1b36475b",
   "metadata": {},
   "outputs": [
    {
     "name": "stdout",
     "output_type": "stream",
     "text": [
      "Enter the state: selangor\n",
      "       POSKOD                       ADDRESS        CITY     STATE\n",
      "17899   26060   Perkampungan Kempadang Aman     Kuantan  Selangor\n",
      "18650   27000              Lorong Damai 6/3    Jerantut  Selangor\n",
      "18666   27000            Taman Damai Fasa 3    Jerantut  Selangor\n",
      "26504   40000            Bukit Raja Selatan   Shah Alam  Selangor\n",
      "26505   40000                Jalan Akik 7/3   Shah Alam  Selangor\n",
      "...       ...                           ...         ...       ...\n",
      "37063   68100           Taman Seri Selayang  Batu Caves  Selangor\n",
      "37064   68100            Taman Spring Crest  Batu Caves  Selangor\n",
      "37065   68100                   Taman Wahyu  Batu Caves  Selangor\n",
      "37066   68100                 Taman Wilayah  Batu Caves  Selangor\n",
      "37067   68100  Zon PerIndustrian Batu Caves  Batu Caves  Selangor\n",
      "\n",
      "[7583 rows x 4 columns]\n"
     ]
    }
   ],
   "source": [
    "# Read CSV and create DataFrame\n",
    "file_path = 'my-poskod.csv'\n",
    "df = pd.read_csv(file_path)\n",
    "\n",
    "# Specify the state you want to filter by\n",
    "state_name = input(\"Enter the state: \").lower()  # Convert input to lowercase\n",
    "\n",
    "# Filter rows by state\n",
    "state_rows2 = df.loc[df['STATE'].str.lower() == state_name]\n",
    "print(state_rows2)"
   ]
  },
  {
   "cell_type": "code",
   "execution_count": 38,
   "id": "a3253ccc",
   "metadata": {},
   "outputs": [
    {
     "name": "stdout",
     "output_type": "stream",
     "text": [
      "Do you want to search by CITY? (yes/no): no\n",
      "Enter the address search token: shah alam\n",
      "       POSKOD                                     ADDRESS        CITY  \\\n",
      "26853   40000                      Shah Alam - Seksyen 14   Shah Alam   \n",
      "26854   40000                   Shah Alam - Seksyen 2 - 8   Shah Alam   \n",
      "27061   40100                  Shah Alam - Seksyen 9 - 13   Shah Alam   \n",
      "27534   40150                       Shah Alam - Seksyen 1   Shah Alam   \n",
      "27535   40150                 Shah Alam - Seksyen U1 - U3   Shah Alam   \n",
      "27536   40150                 Shah Alam - Seksyen U5 - U9   Shah Alam   \n",
      "27660   40160               Shah Alam - Seksyen U16 - U20   Shah Alam   \n",
      "27661   40160                      Shah Alam - Seksyen U4   Shah Alam   \n",
      "27774   40170               Shah Alam - Seksyen U10 - U15   Shah Alam   \n",
      "28093   40200                 Shah Alam - Seksyen 15 - 18   Shah Alam   \n",
      "28394   40300                 Shah Alam - Seksyen 19 - 24   Shah Alam   \n",
      "29048   40400                 Shah Alam - Seksyen 25 - 28   Shah Alam   \n",
      "29049   40400                      Shah Alam - Seksyen 33   Shah Alam   \n",
      "29088   40450  Universiti Teknologi Mara (UiTM) Shah Alam   Shah Alam   \n",
      "29217   40460                 Shah Alam - Seksyen 29 - 32   Shah Alam   \n",
      "29267   40470                 Shah Alam - Seksyen 34 - 36   Shah Alam   \n",
      "29314   40675                Majlis Perbandaran Shah Alam   Shah Alam   \n",
      "29318   40700          Shah Alam - Peti Surat 7000 - 7055   Shah Alam   \n",
      "29319   40702          Shah Alam - Peti Surat 7056 - 7111   Shah Alam   \n",
      "29320   40704          Shah Alam - Peti Surat 7112 - 7167   Shah Alam   \n",
      "29321   40706          Shah Alam - Peti Surat 7168 - 7223   Shah Alam   \n",
      "29322   40708          Shah Alam - Peti Surat 7224 - 7279   Shah Alam   \n",
      "29323   40710          Shah Alam - Peti Surat 7280 - 7335   Shah Alam   \n",
      "29324   40712          Shah Alam - Peti Surat 7336 - 7391   Shah Alam   \n",
      "29325   40714          Shah Alam - Peti Surat 7392 - 7447   Shah Alam   \n",
      "29326   40716          Shah Alam - Peti Surat 7448 - 7503   Shah Alam   \n",
      "29327   40718          Shah Alam - Peti Surat 7504 - 7559   Shah Alam   \n",
      "29328   40720          Shah Alam - Peti Surat 7560 - 7615   Shah Alam   \n",
      "29329   40722          Shah Alam - Peti Surat 7616 - 7671   Shah Alam   \n",
      "29330   40724          Shah Alam - Peti Surat 7672 - 7727   Shah Alam   \n",
      "29331   40726          Shah Alam - Peti Surat 7728 - 7783   Shah Alam   \n",
      "29332   40728          Shah Alam - Peti Surat 7784 - 7839   Shah Alam   \n",
      "29333   40730          Shah Alam - Peti Surat 7840 - 7896   Shah Alam   \n",
      "29334   40732          Shah Alam - Peti Surat 7897 - 7951   Shah Alam   \n",
      "29341   40990                    Shah Alam - Beg Berkunci  Shah Alam    \n",
      "\n",
      "          STATE  \n",
      "26853  Selangor  \n",
      "26854  Selangor  \n",
      "27061  Selangor  \n",
      "27534  Selangor  \n",
      "27535  Selangor  \n",
      "27536  Selangor  \n",
      "27660  Selangor  \n",
      "27661  Selangor  \n",
      "27774  Selangor  \n",
      "28093  Selangor  \n",
      "28394  Selangor  \n",
      "29048  Selangor  \n",
      "29049  Selangor  \n",
      "29088  Selangor  \n",
      "29217  Selangor  \n",
      "29267  Selangor  \n",
      "29314  Selangor  \n",
      "29318  Selangor  \n",
      "29319  Selangor  \n",
      "29320  Selangor  \n",
      "29321  Selangor  \n",
      "29322  Selangor  \n",
      "29323  Selangor  \n",
      "29324  Selangor  \n",
      "29325  Selangor  \n",
      "29326  Selangor  \n",
      "29327  Selangor  \n",
      "29328  Selangor  \n",
      "29329  Selangor  \n",
      "29330  Selangor  \n",
      "29331  Selangor  \n",
      "29332  Selangor  \n",
      "29333  Selangor  \n",
      "29334  Selangor  \n",
      "29341  Selangor  \n"
     ]
    }
   ],
   "source": [
    "# # import pandas as pd\n",
    "\n",
    "# # Read CSV and create DataFrame\n",
    "# file_path = 'my-poskod.csv'\n",
    "# df = pd.read_csv(file_path)\n",
    "\n",
    "# # Specify the state you want to filter by\n",
    "# state_name = input(\"Enter the state: \")\n",
    "\n",
    "# # Filter rows by state\n",
    "# state_rows = df.loc[df['STATE'] == state_name]\n",
    "state_rows = state_rows2\n",
    "\n",
    "# Option to search by CITY\n",
    "search_city = input(\"Do you want to search by CITY? (yes/no): \")\n",
    "if search_city.lower() == 'yes':\n",
    "    city_name = input(\"Enter the city: \").lower()\n",
    "    city_rows = state_rows.loc[state_rows['CITY'].str.lower() == city_name]\n",
    "    state_rows = city_rows\n",
    "\n",
    "# # Option to search by ADDRESS\n",
    "# search_address = input(\"Do you want to search by ADDRESS? (yes/no): \")\n",
    "# if search_address.lower() == 'yes':\n",
    "address_token = input(\"Enter the address search token: \").lower()\n",
    "address_rows = state_rows[state_rows['ADDRESS'].str.contains(address_token, case=False)]\n",
    "state_rows = address_rows\n",
    "\n",
    "# Print the final filtered rows\n",
    "print(state_rows)"
   ]
  },
  {
   "cell_type": "code",
   "execution_count": 24,
   "id": "0304e397",
   "metadata": {},
   "outputs": [
    {
     "name": "stdout",
     "output_type": "stream",
     "text": [
      "POSKOD          68100\n",
      "ADDRESS    Batu Caves\n",
      "CITY       Batu Caves\n",
      "STATE        Selangor\n",
      "Name: 36952, dtype: object\n"
     ]
    }
   ],
   "source": [
    "selected_row = state_rows.iloc[2]\n",
    "print(selected_row)"
   ]
  },
  {
   "cell_type": "markdown",
   "id": "427b5229",
   "metadata": {},
   "source": [
    "# this is the FINAL_LIST_pairingtask.xlsx"
   ]
  },
  {
   "cell_type": "code",
   "execution_count": 39,
   "id": "76f4f766",
   "metadata": {},
   "outputs": [],
   "source": [
    "file_path = 'my-poskod.csv'\n",
    "df2 = pd.read_csv(file_path)"
   ]
  },
  {
   "cell_type": "code",
   "execution_count": 42,
   "id": "6c01fd85",
   "metadata": {},
   "outputs": [
    {
     "name": "stdout",
     "output_type": "stream",
     "text": [
      "POSKOD                     1000\n",
      "ADDRESS    Jalan Abi Tok Hashim\n",
      "CITY                     Kangar\n",
      "STATE                    Perlis\n",
      "Name: 3, dtype: object\n"
     ]
    }
   ],
   "source": [
    "state_rows = df2.iloc[state_rows_number]\n",
    "print(state_rows)"
   ]
  },
  {
   "cell_type": "code",
   "execution_count": 31,
   "id": "479a1ed2",
   "metadata": {},
   "outputs": [
    {
     "name": "stdout",
     "output_type": "stream",
     "text": [
      "Company address: Unit 901C, Level 9,Tower C, Uptown 5, No.5 Jalan SS21/39, Damansara Uptown, 47400 Petaling Jaya, Selangor, Malaysia\n",
      "ADDRESS: nan\n"
     ]
    }
   ],
   "source": [
    "# import pandas as pd\n",
    "\n",
    "# Read the Excel file and specify the sheet name\n",
    "file_path = 'FINAL_LIST_pairingtask.xlsx'\n",
    "sheet_name = 'Aiman'\n",
    "df = pd.read_excel(file_path, sheet_name=sheet_name)\n",
    "\n",
    "# Specify the row number you want to read (indexing starts from 0)\n",
    "row_number = 0  # Index of the third row (0-based index)\n",
    "\n",
    "# Read the specified row using iloc\n",
    "selected_row = df.iloc[row_number]\n",
    "\n",
    "# Print the values of 'Company address' and 'ADDRESS' columns\n",
    "print(\"Company address:\", selected_row['Company address'])\n",
    "print(\"ADDRESS:\", selected_row['ADDRESS'])"
   ]
  },
  {
   "cell_type": "code",
   "execution_count": 36,
   "id": "26ed7966",
   "metadata": {},
   "outputs": [],
   "source": [
    "# row_number = 0\n",
    "master_df = pd.DataFrame()"
   ]
  },
  {
   "cell_type": "code",
   "execution_count": 34,
   "id": "6487595e",
   "metadata": {},
   "outputs": [
    {
     "name": "stdout",
     "output_type": "stream",
     "text": [
      "Company address: Unit 901C, Level 9,Tower C, Uptown 5, No.5 Jalan SS21/39, Damansara Uptown, 47400 Petaling Jaya, Selangor, Malaysia\n"
     ]
    }
   ],
   "source": [
    "# Read the specified row using iloc\n",
    "selected_row = df.iloc[row_number]\n",
    "\n",
    "# Print the values of 'Company address' and 'ADDRESS' columns\n",
    "print(\"Company address:\", selected_row['Company address'])"
   ]
  },
  {
   "cell_type": "code",
   "execution_count": 43,
   "id": "53267f63",
   "metadata": {},
   "outputs": [
    {
     "name": "stdout",
     "output_type": "stream",
     "text": [
      "Combined Row:\n",
      "company_id                                                               450865.0\n",
      "Company name                                                    Cyberview Sdn Bhd\n",
      "Company address                 Block 3750, Persiaran APEC, Cyber 8, 63000 Cyb...\n",
      "company_name_slug                                                cyberview-450865\n",
      "company_no                                                               405553-T\n",
      "reviews_count                                                                11.0\n",
      "average_company_rating                                                     3.8182\n",
      "company_review_summary_url              /companies/450865/company-reviews/summary\n",
      "company_review_url                              /companies/450865/company-reviews\n",
      "foreign_company_id                                                        36944.0\n",
      "map_address                     Block 3750 Persiaran APEC,\\nCyber 8, 63000 Cyb...\n",
      "map_latitude                                                                  NaN\n",
      "map_longitude                                                                 NaN\n",
      "industry                        Consulting (IT, Science, Engineering & Technical)\n",
      "website_url                                           http://www.cyberview.com.my\n",
      "Secondary Address                                                             NaN\n",
      "Company Tel                                                           03 83156111\n",
      "Company Email                                                                 NaN\n",
      "Contact Person                                                                NaN\n",
      "Position                                                                      NaN\n",
      "FET                                                                             0\n",
      "FCA                                                                             0\n",
      "FOB                                                                             0\n",
      "FCM                                                                             0\n",
      "FOE                                                                             0\n",
      "FOM                                                                             1\n",
      "FIST                                                                            0\n",
      "FCI                                                                             0\n",
      "MapsLat - Hidden - NoFilter                                              2.908353\n",
      "MapsLong - Hidden - NoFilter                                             101.6558\n",
      "POSKOD                                                                       1000\n",
      "ADDRESS                                                      Jalan Abi Tok Hashim\n",
      "CITY                                                                       Kangar\n",
      "STATE                                                                      Perlis\n",
      "Name: 2, dtype: object\n"
     ]
    },
    {
     "name": "stderr",
     "output_type": "stream",
     "text": [
      "C:\\Users\\AIMAN\\AppData\\Local\\Temp\\ipykernel_12284\\2931419012.py:26: FutureWarning: The frame.append method is deprecated and will be removed from pandas in a future version. Use pandas.concat instead.\n",
      "  master_df = master_df.append(combined_row, ignore_index=True)\n"
     ]
    }
   ],
   "source": [
    "import pandas as pd\n",
    "\n",
    "# Read the Excel file and specify the sheet name\n",
    "file_path = 'FINAL_LIST_pairingtask.xlsx'\n",
    "sheet_name = 'Aiman'\n",
    "df = pd.read_excel(file_path, sheet_name=sheet_name)\n",
    "\n",
    "# Specify the row number you want to read (indexing starts from 0)\n",
    "selected_row_number = 2  # Index of the third row (0-based index)\n",
    "state_rows_number = 3  # Index of the fourth row (0-based index)\n",
    "\n",
    "# Read the specified rows using iloc\n",
    "selected_row = df.iloc[selected_row_number]\n",
    "state_rows = df2.iloc[state_rows_number]\n",
    "\n",
    "# Combine the rows using pd.Series.update()\n",
    "combined_row = selected_row.copy()\n",
    "combined_row.update(state_rows)\n",
    "\n",
    "# Print the combined row\n",
    "print(\"Combined Row:\")\n",
    "print(combined_row)\n",
    "\n",
    "# Assuming you have a master_df already\n",
    "# Append combined_row to master_df\n",
    "master_df = master_df.append(combined_row, ignore_index=True)\n"
   ]
  },
  {
   "cell_type": "code",
   "execution_count": null,
   "id": "450e4d2f",
   "metadata": {},
   "outputs": [],
   "source": [
    "# Read the specified rows using iloc\n",
    "selected_row = df.iloc[selected_row_number]\n",
    "state_rows = df.iloc[state_rows_number]\n",
    "\n",
    "# Create a new DataFrame to combine the rows\n",
    "new_df = pd.DataFrame(columns=selected_row.index)\n",
    "new_df.loc[0] = selected_row\n",
    "new_df.update(state_rows)\n",
    "\n",
    "# Print the combined DataFrame\n",
    "print(\"Combined DataFrame:\")\n",
    "print(new_df)\n",
    "\n",
    "# Assuming you have a master_df already\n",
    "# Append new_df to master_df\n",
    "master_df = pd.concat([master_df, new_df], ignore_index=True)"
   ]
  },
  {
   "cell_type": "markdown",
   "id": "ed86290d",
   "metadata": {},
   "source": [
    "# this is the real way to do it"
   ]
  },
  {
   "cell_type": "code",
   "execution_count": 47,
   "id": "0b143ecc",
   "metadata": {},
   "outputs": [],
   "source": [
    "# # row_number = 0\n",
    "# master_df = pd.DataFrame()\n",
    "# print(master_df)\n",
    "# row_number = 0 "
   ]
  },
  {
   "cell_type": "code",
   "execution_count": 48,
   "id": "cf57c4cc",
   "metadata": {},
   "outputs": [],
   "source": [
    "# # Read the Excel file and specify the sheet name\n",
    "# file_path = 'FINAL_LIST_pairingtask.xlsx'\n",
    "# sheet_name = 'Aiman'\n",
    "# df = pd.read_excel(file_path, sheet_name=sheet_name)\n",
    "\n",
    "# file_path = 'my-poskod.csv'\n",
    "# df2 = pd.read_csv(file_path)"
   ]
  },
  {
   "cell_type": "code",
   "execution_count": 67,
   "id": "77f77bf2",
   "metadata": {},
   "outputs": [
    {
     "name": "stdout",
     "output_type": "stream",
     "text": [
      "Company address: 19, jalan Kebudayaan 1A Taman Universiti Skudai 81300\n",
      "ADDRESS: nan\n"
     ]
    }
   ],
   "source": [
    "# Specify the row number you want to read (indexing starts from 0)\n",
    "row_number = row_number +1\n",
    "\n",
    "# Read the specified row using iloc\n",
    "selected_row = df.iloc[row_number]\n",
    "\n",
    "# Print the values of 'Company address' and 'ADDRESS' columns\n",
    "print(\"Company address:\", selected_row['Company address'])\n",
    "print(\"ADDRESS:\", selected_row['ADDRESS'])"
   ]
  },
  {
   "cell_type": "code",
   "execution_count": 68,
   "id": "48a112e7",
   "metadata": {
    "scrolled": true
   },
   "outputs": [
    {
     "ename": "KeyboardInterrupt",
     "evalue": "Interrupted by user",
     "output_type": "error",
     "traceback": [
      "\u001b[1;31m---------------------------------------------------------------------------\u001b[0m",
      "\u001b[1;31mKeyboardInterrupt\u001b[0m                         Traceback (most recent call last)",
      "Input \u001b[1;32mIn [68]\u001b[0m, in \u001b[0;36m<cell line: 2>\u001b[1;34m()\u001b[0m\n\u001b[0;32m      1\u001b[0m \u001b[38;5;66;03m# Specify the state you want to filter by\u001b[39;00m\n\u001b[1;32m----> 2\u001b[0m state_name \u001b[38;5;241m=\u001b[39m \u001b[38;5;28;43minput\u001b[39;49m\u001b[43m(\u001b[49m\u001b[38;5;124;43m\"\u001b[39;49m\u001b[38;5;124;43mEnter the state: \u001b[39;49m\u001b[38;5;124;43m\"\u001b[39;49m\u001b[43m)\u001b[49m\u001b[38;5;241m.\u001b[39mlower()  \u001b[38;5;66;03m# Convert input to lowercase\u001b[39;00m\n\u001b[0;32m      4\u001b[0m \u001b[38;5;66;03m# Filter rows by state\u001b[39;00m\n\u001b[0;32m      5\u001b[0m state_rows2 \u001b[38;5;241m=\u001b[39m df2\u001b[38;5;241m.\u001b[39mloc[df2[\u001b[38;5;124m'\u001b[39m\u001b[38;5;124mSTATE\u001b[39m\u001b[38;5;124m'\u001b[39m]\u001b[38;5;241m.\u001b[39mstr\u001b[38;5;241m.\u001b[39mlower() \u001b[38;5;241m==\u001b[39m state_name]\n",
      "File \u001b[1;32m~\\anaconda3\\lib\\site-packages\\ipykernel\\kernelbase.py:1075\u001b[0m, in \u001b[0;36mKernel.raw_input\u001b[1;34m(self, prompt)\u001b[0m\n\u001b[0;32m   1071\u001b[0m \u001b[38;5;28;01mif\u001b[39;00m \u001b[38;5;129;01mnot\u001b[39;00m \u001b[38;5;28mself\u001b[39m\u001b[38;5;241m.\u001b[39m_allow_stdin:\n\u001b[0;32m   1072\u001b[0m     \u001b[38;5;28;01mraise\u001b[39;00m StdinNotImplementedError(\n\u001b[0;32m   1073\u001b[0m         \u001b[38;5;124m\"\u001b[39m\u001b[38;5;124mraw_input was called, but this frontend does not support input requests.\u001b[39m\u001b[38;5;124m\"\u001b[39m\n\u001b[0;32m   1074\u001b[0m     )\n\u001b[1;32m-> 1075\u001b[0m \u001b[38;5;28;01mreturn\u001b[39;00m \u001b[38;5;28;43mself\u001b[39;49m\u001b[38;5;241;43m.\u001b[39;49m\u001b[43m_input_request\u001b[49m\u001b[43m(\u001b[49m\n\u001b[0;32m   1076\u001b[0m \u001b[43m    \u001b[49m\u001b[38;5;28;43mstr\u001b[39;49m\u001b[43m(\u001b[49m\u001b[43mprompt\u001b[49m\u001b[43m)\u001b[49m\u001b[43m,\u001b[49m\n\u001b[0;32m   1077\u001b[0m \u001b[43m    \u001b[49m\u001b[38;5;28;43mself\u001b[39;49m\u001b[38;5;241;43m.\u001b[39;49m\u001b[43m_parent_ident\u001b[49m\u001b[43m[\u001b[49m\u001b[38;5;124;43m\"\u001b[39;49m\u001b[38;5;124;43mshell\u001b[39;49m\u001b[38;5;124;43m\"\u001b[39;49m\u001b[43m]\u001b[49m\u001b[43m,\u001b[49m\n\u001b[0;32m   1078\u001b[0m \u001b[43m    \u001b[49m\u001b[38;5;28;43mself\u001b[39;49m\u001b[38;5;241;43m.\u001b[39;49m\u001b[43mget_parent\u001b[49m\u001b[43m(\u001b[49m\u001b[38;5;124;43m\"\u001b[39;49m\u001b[38;5;124;43mshell\u001b[39;49m\u001b[38;5;124;43m\"\u001b[39;49m\u001b[43m)\u001b[49m\u001b[43m,\u001b[49m\n\u001b[0;32m   1079\u001b[0m \u001b[43m    \u001b[49m\u001b[43mpassword\u001b[49m\u001b[38;5;241;43m=\u001b[39;49m\u001b[38;5;28;43;01mFalse\u001b[39;49;00m\u001b[43m,\u001b[49m\n\u001b[0;32m   1080\u001b[0m \u001b[43m\u001b[49m\u001b[43m)\u001b[49m\n",
      "File \u001b[1;32m~\\anaconda3\\lib\\site-packages\\ipykernel\\kernelbase.py:1120\u001b[0m, in \u001b[0;36mKernel._input_request\u001b[1;34m(self, prompt, ident, parent, password)\u001b[0m\n\u001b[0;32m   1117\u001b[0m             \u001b[38;5;28;01mbreak\u001b[39;00m\n\u001b[0;32m   1118\u001b[0m \u001b[38;5;28;01mexcept\u001b[39;00m \u001b[38;5;167;01mKeyboardInterrupt\u001b[39;00m:\n\u001b[0;32m   1119\u001b[0m     \u001b[38;5;66;03m# re-raise KeyboardInterrupt, to truncate traceback\u001b[39;00m\n\u001b[1;32m-> 1120\u001b[0m     \u001b[38;5;28;01mraise\u001b[39;00m \u001b[38;5;167;01mKeyboardInterrupt\u001b[39;00m(\u001b[38;5;124m\"\u001b[39m\u001b[38;5;124mInterrupted by user\u001b[39m\u001b[38;5;124m\"\u001b[39m) \u001b[38;5;28;01mfrom\u001b[39;00m \u001b[38;5;28mNone\u001b[39m\n\u001b[0;32m   1121\u001b[0m \u001b[38;5;28;01mexcept\u001b[39;00m \u001b[38;5;167;01mException\u001b[39;00m:\n\u001b[0;32m   1122\u001b[0m     \u001b[38;5;28mself\u001b[39m\u001b[38;5;241m.\u001b[39mlog\u001b[38;5;241m.\u001b[39mwarning(\u001b[38;5;124m\"\u001b[39m\u001b[38;5;124mInvalid Message:\u001b[39m\u001b[38;5;124m\"\u001b[39m, exc_info\u001b[38;5;241m=\u001b[39m\u001b[38;5;28;01mTrue\u001b[39;00m)\n",
      "\u001b[1;31mKeyboardInterrupt\u001b[0m: Interrupted by user"
     ]
    }
   ],
   "source": [
    "# Specify the state you want to filter by\n",
    "state_name = input(\"Enter the state: \").lower()  # Convert input to lowercase\n",
    "\n",
    "# Filter rows by state\n",
    "state_rows2 = df2.loc[df2['STATE'].str.lower() == state_name]\n",
    "# print(state_rows2)\n",
    "state_rows = state_rows2\n",
    "# Option to search by CITY\n",
    "search_city = input(\"Do you want to search by CITY? (yes/no): \")\n",
    "if search_city.lower() == 'yes':\n",
    "    city_name = input(\"Enter the city: \").lower()\n",
    "    city_rows = state_rows.loc[state_rows['CITY'].str.lower() == city_name]\n",
    "    state_rows = city_rows\n",
    "\n",
    "# # Option to search by ADDRESS\n",
    "# search_address = input(\"Do you want to search by ADDRESS? (yes/no): \")\n",
    "# if search_address.lower() == 'yes':\n",
    "address_token = input(\"Enter the address search token: \").lower()\n",
    "address_rows = state_rows[state_rows['ADDRESS'].str.contains(address_token, case=False)]\n",
    "state_rows = address_rows\n",
    "# Print the final filtered rows\n",
    "print(state_rows)"
   ]
  },
  {
   "cell_type": "code",
   "execution_count": 66,
   "id": "abd1baf5",
   "metadata": {},
   "outputs": [
    {
     "name": "stdout",
     "output_type": "stream",
     "text": [
      "Company address: Block 3750, Persiaran APEC, Cyber 8, 63000 Cyberjaya, Selangor, Malaysia\n",
      "POSKOD: 63000\n",
      "ADDRESS: Persiaran Apec\n",
      "CITY: Cyberjaya\n",
      "STATE: Selangor\n"
     ]
    },
    {
     "name": "stderr",
     "output_type": "stream",
     "text": [
      "C:\\Users\\AIMAN\\AppData\\Local\\Temp\\ipykernel_12284\\4087429805.py:19: FutureWarning: The frame.append method is deprecated and will be removed from pandas in a future version. Use pandas.concat instead.\n",
      "  master_df = master_df.append(combined_row, ignore_index=True)\n"
     ]
    }
   ],
   "source": [
    "# Specify the row number you want to read (indexing starts from 0)\n",
    "selected_row_number = row_number  # Index of the third row (0-based index)\n",
    "state_rows_number = 36740\n",
    "\n",
    "# Read the specified rows using iloc\n",
    "selected_row = df.iloc[selected_row_number]\n",
    "state_rows = df2.iloc[state_rows_number]\n",
    "\n",
    "# Combine the rows using pd.Series.update()\n",
    "combined_row = selected_row.copy()\n",
    "combined_row.update(state_rows)\n",
    "\n",
    "# Print the combined row\n",
    "# print(\"Combined Row:\")\n",
    "# print(combined_row)\n",
    "\n",
    "# Assuming you have a master_df already\n",
    "# Append combined_row to master_df\n",
    "# master_df = master_df.append(combined_row, ignore_index=True)\n",
    "master_df = master_df.concat(combined_row, ignore_index=True)\n",
    "# print(\"master_df:\")\n",
    "# print(master_df)\n",
    "print(\"Company address:\", master_df.at[row_number, 'Company address'])\n",
    "print(\"POSKOD:\", master_df.at[row_number, 'POSKOD'])\n",
    "print(\"ADDRESS:\", master_df.at[row_number, 'ADDRESS'])\n",
    "print(\"CITY:\", master_df.at[row_number, 'CITY'])\n",
    "print(\"STATE:\", master_df.at[row_number, 'STATE'])"
   ]
  }
 ],
 "metadata": {
  "kernelspec": {
   "display_name": "Python 3 (ipykernel)",
   "language": "python",
   "name": "python3"
  },
  "language_info": {
   "codemirror_mode": {
    "name": "ipython",
    "version": 3
   },
   "file_extension": ".py",
   "mimetype": "text/x-python",
   "name": "python",
   "nbconvert_exporter": "python",
   "pygments_lexer": "ipython3",
   "version": "3.9.12"
  }
 },
 "nbformat": 4,
 "nbformat_minor": 5
}
