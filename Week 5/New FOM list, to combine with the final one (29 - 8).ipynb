{
 "cells": [
  {
   "cell_type": "code",
   "execution_count": 77,
   "id": "58d152c1",
   "metadata": {},
   "outputs": [],
   "source": [
    "import pandas as pd\n",
    "import warnings\n",
    "import numpy as np\n",
    "# import re\n",
    "\n",
    "# Suppress the specific UserWarning from openpyxl\n",
    "warnings.filterwarnings(\"ignore\", category=UserWarning, message=\"Data Validation extension is not supported\")\n",
    "warnings.filterwarnings(\"ignore\", category=FutureWarning, message=\"The frame.append method is deprecated\")"
   ]
  },
  {
   "cell_type": "code",
   "execution_count": 2,
   "id": "365f1597",
   "metadata": {},
   "outputs": [
    {
     "name": "stdout",
     "output_type": "stream",
     "text": [
      "  ACAD_ORG ACAD_PROG  STRM                           ORG_NAME\n",
      "0      FOM      BB02  2010          PETRONAS CARIGALI SDN BHD\n",
      "1      FOM      BB02  2010               Sapura Energy Berhad\n",
      "2      FOM      BB02  2010  V'SHIELD SECURITY SERVICE SDN BHD\n",
      "3      FOM      BB02  2010             MMC Corporation Berhad\n",
      "4      FOM      BB10  2010              Kumpulan Voir Sdn Bhd\n"
     ]
    }
   ],
   "source": [
    "# import pandas as pd\n",
    "\n",
    "# Replace 'FOM.xlsx' with the actual path to your Excel file\n",
    "excel_file_path = 'FOM.xlsx'\n",
    "\n",
    "# Read the Excel file into a DataFrame\n",
    "df = pd.read_excel(excel_file_path)\n",
    "\n",
    "# Now you can work with the 'df' DataFrame containing the Excel data\n",
    "print(df.head())  # Display the first few rows of the DataFrame"
   ]
  },
  {
   "cell_type": "code",
   "execution_count": 5,
   "id": "547f192d",
   "metadata": {},
   "outputs": [
    {
     "name": "stdout",
     "output_type": "stream",
     "text": [
      "    ACAD_ORG ACAD_PROG  STRM                                 ORG_NAME\n",
      "103      FOM      BB11  2030  1Training Worklife Management Sdn. Bhd.\n",
      "107      FOM      BB11  2030  1Training Worklife Management Sdn. Bhd.\n",
      "359      FOM      BB01  2230           AC SUCCESS CONSULTANTS SDN BHD\n",
      "95       FOM      BB01  2030                                   AFTAAS\n",
      "377      FOM      BB02  2230                       AIA General Berhad\n"
     ]
    }
   ],
   "source": [
    "# Sort the DataFrame based on the 'ORG_NAME' column\n",
    "df_sorted = df.sort_values(by='ORG_NAME')\n",
    "\n",
    "# Now df_sorted contains the DataFrame sorted by the 'ORG_NAME' column\n",
    "print(df_sorted.head())"
   ]
  },
  {
   "cell_type": "code",
   "execution_count": 3,
   "id": "e8184c2d",
   "metadata": {},
   "outputs": [
    {
     "name": "stdout",
     "output_type": "stream",
     "text": [
      "  ACAD_ORG ACAD_PROG  STRM                           ORG_NAME\n",
      "0      FOM      BB02  2010          PETRONAS CARIGALI SDN BHD\n",
      "1      FOM      BB02  2010               Sapura Energy Berhad\n",
      "2      FOM      BB02  2010  V'SHIELD SECURITY SERVICE SDN BHD\n",
      "3      FOM      BB02  2010             MMC Corporation Berhad\n",
      "4      FOM      BB10  2010              Kumpulan Voir Sdn Bhd\n"
     ]
    }
   ],
   "source": [
    "# Remove duplicates from the 'ORG_NAME' column\n",
    "df_no_duplicates = df.drop_duplicates(subset=['ORG_NAME'])\n",
    "\n",
    "# Now df_no_duplicates contains the DataFrame with duplicates removed from the 'ORG_NAME' column\n",
    "print(df_no_duplicates.head())"
   ]
  },
  {
   "cell_type": "code",
   "execution_count": 8,
   "id": "37cfc900",
   "metadata": {},
   "outputs": [
    {
     "name": "stdout",
     "output_type": "stream",
     "text": [
      "    ACAD_ORG ACAD_PROG  STRM                                 ORG_NAME\n",
      "103      FOM      BB11  2030  1Training Worklife Management Sdn. Bhd.\n",
      "359      FOM      BB01  2230           AC SUCCESS CONSULTANTS SDN BHD\n",
      "95       FOM      BB01  2030                                   AFTAAS\n",
      "377      FOM      BB02  2230                       AIA General Berhad\n",
      "70       FOM      BB10  2030                AIA Insurance and Finance\n"
     ]
    }
   ],
   "source": [
    "# Sort the DataFrame based on the 'ORG_NAME' column\n",
    "df_sorted = df_no_duplicates.sort_values(by='ORG_NAME')\n",
    "\n",
    "# Now df_sorted contains the DataFrame sorted by the 'ORG_NAME' column\n",
    "print(df_sorted.head())\n",
    "\n",
    "# Create a new DataFrame with only the 'ORG_NAME' column\n",
    "df_org_names = df_sorted[['ORG_NAME']].copy()"
   ]
  },
  {
   "cell_type": "code",
   "execution_count": 9,
   "id": "b2462d61",
   "metadata": {},
   "outputs": [
    {
     "name": "stdout",
     "output_type": "stream",
     "text": [
      "DataFrame saved to FOM_sorted.xlsx\n"
     ]
    }
   ],
   "source": [
    "#save the new dataframe, which has been sorted and removed duplicates\n",
    "\n",
    "# Specify the path where you want to save the Excel file\n",
    "output_excel_file = 'FOM_sorted.xlsx'\n",
    "\n",
    "# Save the sorted DataFrame to an Excel file\n",
    "df_org_names.to_excel(output_excel_file, index=False)\n",
    "\n",
    "print(f\"DataFrame saved to {output_excel_file}\")\n"
   ]
  },
  {
   "cell_type": "markdown",
   "id": "9926fc70",
   "metadata": {},
   "source": [
    "# now for pairing with the jobstreet"
   ]
  },
  {
   "cell_type": "code",
   "execution_count": 475,
   "id": "bf7a3685",
   "metadata": {},
   "outputs": [],
   "source": [
    "# # Create an empty DataFrame to collect paired rows\n",
    "# #run this to clear the collection\n",
    "# # Replace 'FOM.xlsx' with the actual path to your Excel file\n",
    "# excel_file_path = 'new_dataframe_3_46 - Copy.xlsx'\n",
    "\n",
    "# # Read the Excel file into a DataFrame\n",
    "# paired_rows_collection = pd.read_excel(excel_file_path)\n",
    "# # paired_rows_collection = pd.DataFrame()"
   ]
  },
  {
   "cell_type": "code",
   "execution_count": null,
   "id": "9925fd6b",
   "metadata": {},
   "outputs": [],
   "source": [
    "# # Specify the path to your CSV file\n",
    "# csv_file_path = '2.jobstreet_company_info_main_industry_class.csv'\n",
    "\n",
    "# # Read the CSV file into a DataFrame\n",
    "# df = pd.read_csv(csv_file_path)"
   ]
  },
  {
   "cell_type": "markdown",
   "id": "b034a573",
   "metadata": {},
   "source": [
    "# Start the work here"
   ]
  },
  {
   "cell_type": "code",
   "execution_count": 1235,
   "id": "cec4e1e4",
   "metadata": {},
   "outputs": [],
   "source": [
    "# print(row_number)"
   ]
  },
  {
   "cell_type": "code",
   "execution_count": 1313,
   "id": "51971784",
   "metadata": {},
   "outputs": [
    {
     "ename": "IndexError",
     "evalue": "single positional indexer is out-of-bounds",
     "output_type": "error",
     "traceback": [
      "\u001b[1;31m---------------------------------------------------------------------------\u001b[0m",
      "\u001b[1;31mIndexError\u001b[0m                                Traceback (most recent call last)",
      "Input \u001b[1;32mIn [1313]\u001b[0m, in \u001b[0;36m<cell line: 6>\u001b[1;34m()\u001b[0m\n\u001b[0;32m      2\u001b[0m row_number \u001b[38;5;241m=\u001b[39m row_number \u001b[38;5;241m+\u001b[39m\u001b[38;5;241m1\u001b[39m\n\u001b[0;32m      3\u001b[0m \u001b[38;5;66;03m# row_number = 79 # For example, reading the third row (index 2)\u001b[39;00m\n\u001b[0;32m      4\u001b[0m \n\u001b[0;32m      5\u001b[0m \u001b[38;5;66;03m# Read the specified row using iloc\u001b[39;00m\n\u001b[1;32m----> 6\u001b[0m selected_row \u001b[38;5;241m=\u001b[39m \u001b[43mdf_org_names\u001b[49m\u001b[38;5;241;43m.\u001b[39;49m\u001b[43miloc\u001b[49m\u001b[43m[\u001b[49m\u001b[43mrow_number\u001b[49m\u001b[43m]\u001b[49m\n\u001b[0;32m      8\u001b[0m \u001b[38;5;28mprint\u001b[39m(selected_row)\n",
      "File \u001b[1;32m~\\anaconda3\\lib\\site-packages\\pandas\\core\\indexing.py:967\u001b[0m, in \u001b[0;36m_LocationIndexer.__getitem__\u001b[1;34m(self, key)\u001b[0m\n\u001b[0;32m    964\u001b[0m axis \u001b[38;5;241m=\u001b[39m \u001b[38;5;28mself\u001b[39m\u001b[38;5;241m.\u001b[39maxis \u001b[38;5;129;01mor\u001b[39;00m \u001b[38;5;241m0\u001b[39m\n\u001b[0;32m    966\u001b[0m maybe_callable \u001b[38;5;241m=\u001b[39m com\u001b[38;5;241m.\u001b[39mapply_if_callable(key, \u001b[38;5;28mself\u001b[39m\u001b[38;5;241m.\u001b[39mobj)\n\u001b[1;32m--> 967\u001b[0m \u001b[38;5;28;01mreturn\u001b[39;00m \u001b[38;5;28;43mself\u001b[39;49m\u001b[38;5;241;43m.\u001b[39;49m\u001b[43m_getitem_axis\u001b[49m\u001b[43m(\u001b[49m\u001b[43mmaybe_callable\u001b[49m\u001b[43m,\u001b[49m\u001b[43m \u001b[49m\u001b[43maxis\u001b[49m\u001b[38;5;241;43m=\u001b[39;49m\u001b[43maxis\u001b[49m\u001b[43m)\u001b[49m\n",
      "File \u001b[1;32m~\\anaconda3\\lib\\site-packages\\pandas\\core\\indexing.py:1520\u001b[0m, in \u001b[0;36m_iLocIndexer._getitem_axis\u001b[1;34m(self, key, axis)\u001b[0m\n\u001b[0;32m   1517\u001b[0m     \u001b[38;5;28;01mraise\u001b[39;00m \u001b[38;5;167;01mTypeError\u001b[39;00m(\u001b[38;5;124m\"\u001b[39m\u001b[38;5;124mCannot index by location index with a non-integer key\u001b[39m\u001b[38;5;124m\"\u001b[39m)\n\u001b[0;32m   1519\u001b[0m \u001b[38;5;66;03m# validate the location\u001b[39;00m\n\u001b[1;32m-> 1520\u001b[0m \u001b[38;5;28;43mself\u001b[39;49m\u001b[38;5;241;43m.\u001b[39;49m\u001b[43m_validate_integer\u001b[49m\u001b[43m(\u001b[49m\u001b[43mkey\u001b[49m\u001b[43m,\u001b[49m\u001b[43m \u001b[49m\u001b[43maxis\u001b[49m\u001b[43m)\u001b[49m\n\u001b[0;32m   1522\u001b[0m \u001b[38;5;28;01mreturn\u001b[39;00m \u001b[38;5;28mself\u001b[39m\u001b[38;5;241m.\u001b[39mobj\u001b[38;5;241m.\u001b[39m_ixs(key, axis\u001b[38;5;241m=\u001b[39maxis)\n",
      "File \u001b[1;32m~\\anaconda3\\lib\\site-packages\\pandas\\core\\indexing.py:1452\u001b[0m, in \u001b[0;36m_iLocIndexer._validate_integer\u001b[1;34m(self, key, axis)\u001b[0m\n\u001b[0;32m   1450\u001b[0m len_axis \u001b[38;5;241m=\u001b[39m \u001b[38;5;28mlen\u001b[39m(\u001b[38;5;28mself\u001b[39m\u001b[38;5;241m.\u001b[39mobj\u001b[38;5;241m.\u001b[39m_get_axis(axis))\n\u001b[0;32m   1451\u001b[0m \u001b[38;5;28;01mif\u001b[39;00m key \u001b[38;5;241m>\u001b[39m\u001b[38;5;241m=\u001b[39m len_axis \u001b[38;5;129;01mor\u001b[39;00m key \u001b[38;5;241m<\u001b[39m \u001b[38;5;241m-\u001b[39mlen_axis:\n\u001b[1;32m-> 1452\u001b[0m     \u001b[38;5;28;01mraise\u001b[39;00m \u001b[38;5;167;01mIndexError\u001b[39;00m(\u001b[38;5;124m\"\u001b[39m\u001b[38;5;124msingle positional indexer is out-of-bounds\u001b[39m\u001b[38;5;124m\"\u001b[39m)\n",
      "\u001b[1;31mIndexError\u001b[0m: single positional indexer is out-of-bounds"
     ]
    }
   ],
   "source": [
    "# Specify the row number you want to read\n",
    "row_number = row_number +1\n",
    "# row_number = 79 # For example, reading the third row (index 2)\n",
    "\n",
    "# Read the specified row using iloc\n",
    "selected_row = df_org_names.iloc[row_number]\n",
    "\n",
    "print(selected_row)"
   ]
  },
  {
   "cell_type": "code",
   "execution_count": 1310,
   "id": "aac93d61",
   "metadata": {},
   "outputs": [
    {
     "name": "stdout",
     "output_type": "stream",
     "text": [
      "60                       Agoda International (Malaysia) Sdn. Bhd.\n",
      "1268                               AGODA (Customer Service Group)\n",
      "6098                              Pagoda Foods (Malaysia) Sdn Bhd\n",
      "19197                                           Agoda recruitment\n",
      "19371                                           Agoda recruitment\n",
      "41928                                         Agoda (The Network)\n",
      "43240                 Agoda International Pte Ltd ( PH Division )\n",
      "43381                 Agoda International Pte Ltd ( PH Division )\n",
      "98928     EAGLE & PAGODA BRAND TECK AUN MEDICAL FACTORY SDN. BHD.\n",
      "165268                                 PAGODA STEEL WORKS SDN BHD\n",
      "212437                                                     pagoda\n",
      "Name: company_name, dtype: object\n"
     ]
    },
    {
     "data": {
      "text/plain": [
       "company_id                    11\n",
       "company_name                  11\n",
       "address                        6\n",
       "company_name_slug             11\n",
       "company_no                     6\n",
       "reviews_count                 11\n",
       "average_company_rating        11\n",
       "company_review_summary_url    11\n",
       "company_review_url            11\n",
       "foreign_company_id            11\n",
       "map_address                    6\n",
       "map_latitude                   2\n",
       "map_longitude                  2\n",
       "industry                      11\n",
       "website_url                    3\n",
       "dtype: int64"
      ]
     },
     "execution_count": 1310,
     "metadata": {},
     "output_type": "execute_result"
    }
   ],
   "source": [
    "# Replace 'keyword' with the keyword you want to search for\n",
    "keyword = 'agoda'\n",
    "\n",
    "# Filter rows containing the keyword in the 'company_name' column\n",
    "filtered_df = df[df['company_name'].str.contains(keyword, case=False, na=False)]\n",
    "\n",
    "# Print the filtered DataFrame\n",
    "print(filtered_df['company_name'])\n",
    "filtered_df.count()"
   ]
  },
  {
   "cell_type": "code",
   "execution_count": 1259,
   "id": "cd19a91c",
   "metadata": {},
   "outputs": [],
   "source": [
    "# #checking from jobstreet, assuming have multiples of the company\n",
    "# # Specify the company name you want to search for\n",
    "# target_company_name = 'PULLMAN KUALA LUMPUR CITY CENTRE HOTEL & RESIDENCES'\n",
    "\n",
    "# # Filter rows based on the specified company name\n",
    "# target_company_rows = df[df['company_name'] == target_company_name]\n",
    "\n",
    "# # Set the display option to show all the content of the columns\n",
    "# pd.set_option('display.max_colwidth', None)\n",
    "\n",
    "# # Print the entire rows for the target company\n",
    "# print(target_company_rows)"
   ]
  },
  {
   "cell_type": "code",
   "execution_count": 1311,
   "id": "7aad4f0a",
   "metadata": {},
   "outputs": [],
   "source": [
    "#pairing the two and making a new dataframe\n",
    "\n",
    "# Specify the row number you want to pair\n",
    "#this one FROM JOBSTREET\n",
    "row_number_2 = 60  \n",
    "\n",
    "# Read the specified rows from both DataFrames using iloc\n",
    "selected_row_org_names = df_org_names.iloc[row_number]\n",
    "selected_row_df = df.iloc[row_number_2]\n",
    "\n",
    "# Concatenate the rows to create a new DataFrame\n",
    "paired_row = pd.concat([selected_row_org_names, selected_row_df])\n",
    "\n",
    "# Transpose the new DataFrame to have a single row\n",
    "paired_row = paired_row.to_frame().transpose()\n",
    "\n",
    "# print(paired_row)"
   ]
  },
  {
   "cell_type": "code",
   "execution_count": 1312,
   "id": "77142f77",
   "metadata": {},
   "outputs": [
    {
     "name": "stdout",
     "output_type": "stream",
     "text": [
      "ORG_NAME                                                                                                                      agoda\n",
      "company_id                                                                                                                   451453\n",
      "company_name                                                                               Agoda International (Malaysia) Sdn. Bhd.\n",
      "address                       Nu Sentral Jalan Stesen Sentral 5 Brickfields Kuala Lumpur Federal Territory of Kuala Lumpur Malaysia\n",
      "company_name_slug                                                                               agoda-international-malaysia-451453\n",
      "company_no                                                                                                                 874570-V\n",
      "reviews_count                                                                                                                   229\n",
      "average_company_rating                                                                                                        4.262\n",
      "company_review_summary_url                                                                /companies/451453/company-reviews/summary\n",
      "company_review_url                                                                                /companies/451453/company-reviews\n",
      "foreign_company_id                                                                                                          38895.0\n",
      "map_address                   Nu Sentral Jalan Stesen Sentral 5 Brickfields Kuala Lumpur Federal Territory of Kuala Lumpur Malaysia\n",
      "map_latitude                                                                                                                    NaN\n",
      "map_longitude                                                                                                                   NaN\n",
      "industry                                                                                                             Travel/Tourism\n",
      "website_url                                                                                           http://www.careersatagoda.com\n",
      "Name: 267, dtype: object\n"
     ]
    }
   ],
   "source": [
    "# # Specify the row number you want to read\n",
    "# row_number = 75 # For example, reading the third row (index 2)\n",
    "\n",
    "# # Read the specified row using iloc\n",
    "# selected_row = df_org_names.iloc[row_number]\n",
    "\n",
    "# print(selected_row)\n",
    "\n",
    "# Append the paired_row into the paired_rows_collection DataFrame\n",
    "paired_rows_collection = paired_rows_collection.append(paired_row, ignore_index=True)\n",
    "\n",
    "# paired_rows_collection.head()\n",
    "# Print the specific row using the row_number\n",
    "print(paired_rows_collection.iloc[row_number])"
   ]
  },
  {
   "cell_type": "code",
   "execution_count": 465,
   "id": "5c878489",
   "metadata": {},
   "outputs": [],
   "source": [
    "# print(paired_rows_collection)"
   ]
  },
  {
   "cell_type": "markdown",
   "id": "ab4644e6",
   "metadata": {},
   "source": [
    "# international company"
   ]
  },
  {
   "cell_type": "code",
   "execution_count": 1300,
   "id": "8a3d7f9a",
   "metadata": {},
   "outputs": [
    {
     "name": "stdout",
     "output_type": "stream",
     "text": [
      "ORG_NAME                      Zaxon Logistics\n",
      "company_id                               None\n",
      "company_name                             None\n",
      "address                                  None\n",
      "company_name_slug                        None\n",
      "company_no                               None\n",
      "reviews_count                            None\n",
      "average_company_rating                   None\n",
      "company_review_summary_url               None\n",
      "company_review_url                       None\n",
      "foreign_company_id                       None\n",
      "map_address                              None\n",
      "map_latitude                             None\n",
      "map_longitude                            None\n",
      "industry                                 None\n",
      "website_url                              None\n",
      "Name: 264, dtype: object\n"
     ]
    }
   ],
   "source": [
    "# Assuming df_org_names is your DataFrame\n",
    "selected_row_org_names = df_org_names.iloc[row_number]\n",
    "\n",
    "# List of column names for the empty columns\n",
    "empty_columns = [\n",
    "    'company_id',\n",
    "    'company_name',\n",
    "    'address',\n",
    "    'company_name_slug',\n",
    "    'company_no',\n",
    "    'reviews_count',\n",
    "    'average_company_rating',\n",
    "    'company_review_summary_url',\n",
    "    'company_review_url',\n",
    "    'foreign_company_id',\n",
    "    'map_address',\n",
    "    'map_latitude',\n",
    "    'map_longitude',\n",
    "    'industry',\n",
    "    'website_url'\n",
    "]\n",
    "\n",
    "# Add the empty columns to the selected row\n",
    "for column in empty_columns:\n",
    "    selected_row_org_names[column] = None\n",
    "\n",
    "# Now, selected_row_org_names contains the original selected row with empty columns\n",
    "\n",
    "# selected_row_org_names\n",
    "# Append the paired_row into the paired_rows_collection DataFrame\n",
    "paired_rows_collection = paired_rows_collection.append(selected_row_org_names, ignore_index=True)\n",
    "\n",
    "# paired_rows_collection.head()\n",
    "# Print the specific row using the row_number\n",
    "print(paired_rows_collection.iloc[row_number])"
   ]
  },
  {
   "cell_type": "code",
   "execution_count": 96,
   "id": "550c7d65",
   "metadata": {},
   "outputs": [],
   "source": [
    "# print(selected_row_org_names)"
   ]
  },
  {
   "cell_type": "code",
   "execution_count": 1314,
   "id": "ee9940b4",
   "metadata": {},
   "outputs": [
    {
     "name": "stdout",
     "output_type": "stream",
     "text": [
      "DataFrame saved to new_dataframe_5_04.xlsx\n"
     ]
    }
   ],
   "source": [
    "import pandas as pd\n",
    "\n",
    "# Assuming you have the paired_rows_collection DataFrame\n",
    "# If not, replace this with the DataFrame you want to save\n",
    "\n",
    "# Specify the path where you want to save the Excel file\n",
    "output_excel_file = 'new_dataframe_5_04.xlsx'\n",
    "\n",
    "# Save the DataFrame to an Excel file\n",
    "paired_rows_collection.to_excel(output_excel_file, index=False)\n",
    "\n",
    "print(f\"DataFrame saved to {output_excel_file}\")"
   ]
  },
  {
   "cell_type": "code",
   "execution_count": 92,
   "id": "645396d4",
   "metadata": {},
   "outputs": [],
   "source": [
    "# # import pandas as pd\n",
    "\n",
    "# # Assuming you have the df_org_names and df DataFrames\n",
    "# # If not, you can replace this with your DataFrames\n",
    "\n",
    "# # Create a DataFrame with the specified columns and NaN values\n",
    "# empty_row = pd.DataFrame(columns=[\n",
    "#     'company_id', 'company_name', 'address', 'company_name_slug', 'company_no', \n",
    "#     'reviews_count', 'average_company_rating', 'company_review_summary_url', \n",
    "#     'company_review_url', 'foreign_company_id', 'map_address', 'map_latitude', \n",
    "#     'map_longitude', 'industry', 'website_url'\n",
    "# ])\n",
    "\n",
    "# # Append the empty row to the paired_rows_collection DataFrame\n",
    "# # paired_rows_collection = paired_rows_collection.append(empty_row, ignore_index=True)\n",
    "\n",
    "# # print(paired_rows_collection)\n",
    "# print(empty_row)"
   ]
  },
  {
   "cell_type": "code",
   "execution_count": 94,
   "id": "dbc812c7",
   "metadata": {},
   "outputs": [],
   "source": [
    "# # Create a dictionary with column names and NaN values\n",
    "# empty_row_data = {\n",
    "#     'company_id': float('nan'),\n",
    "#     'company_name': float('nan'),\n",
    "#     'address': float('nan'),\n",
    "#     'company_name_slug': float('nan'),\n",
    "#     'company_no': float('nan'),\n",
    "#     'reviews_count': float('nan'),\n",
    "#     'average_company_rating': float('nan'),\n",
    "#     'company_review_summary_url': float('nan'),\n",
    "#     'company_review_url': float('nan'),\n",
    "#     'foreign_company_id': float('nan'),\n",
    "#     'map_address': float('nan'),\n",
    "#     'map_latitude': float('nan'),\n",
    "#     'map_longitude': float('nan'),\n",
    "#     'industry': float('nan'),\n",
    "#     'website_url': float('nan')\n",
    "# }\n",
    "\n",
    "# # Create an empty row DataFrame using the dictionary\n",
    "# empty_row = pd.DataFrame([empty_row_data])\n",
    "\n",
    "# # Read the specified row from df_org_names using iloc\n",
    "# selected_row_org_names = df_org_names.iloc[row_number]\n",
    "\n",
    "# # Concatenate the rows to create a new DataFrame\n",
    "# paired_row = pd.concat([selected_row_org_names, empty_row], axis=1)\n",
    "\n",
    "# # Transpose the new DataFrame to have a single row\n",
    "# paired_row = paired_row.transpose()\n",
    "\n",
    "# print(paired_row)"
   ]
  }
 ],
 "metadata": {
  "kernelspec": {
   "display_name": "Python 3 (ipykernel)",
   "language": "python",
   "name": "python3"
  },
  "language_info": {
   "codemirror_mode": {
    "name": "ipython",
    "version": 3
   },
   "file_extension": ".py",
   "mimetype": "text/x-python",
   "name": "python",
   "nbconvert_exporter": "python",
   "pygments_lexer": "ipython3",
   "version": "3.9.12"
  }
 },
 "nbformat": 4,
 "nbformat_minor": 5
}
